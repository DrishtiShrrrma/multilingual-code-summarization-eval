{
  "metadata": {
    "kernelspec": {
      "name": "python3",
      "display_name": "Python 3"
    },
    "language_info": {
      "name": "python",
      "version": "3.11.11",
      "mimetype": "text/x-python",
      "codemirror_mode": {
        "name": "ipython",
        "version": 3
      },
      "pygments_lexer": "ipython3",
      "nbconvert_exporter": "python",
      "file_extension": ".py"
    },
    "kaggle": {
      "accelerator": "gpu",
      "dataSources": [],
      "dockerImageVersionId": 31041,
      "isInternetEnabled": true,
      "language": "python",
      "sourceType": "notebook",
      "isGpuEnabled": true
    },
    "colab": {
      "provenance": [],
      "gpuType": "A100"
    },
    "accelerator": "GPU",
    "widgets": {
      "application/vnd.jupyter.widget-state+json": {
        "d3e545426a3c41bcaf81336bd8349253": {
          "model_module": "@jupyter-widgets/controls",
          "model_name": "HBoxModel",
          "model_module_version": "1.5.0",
          "state": {
            "_dom_classes": [],
            "_model_module": "@jupyter-widgets/controls",
            "_model_module_version": "1.5.0",
            "_model_name": "HBoxModel",
            "_view_count": null,
            "_view_module": "@jupyter-widgets/controls",
            "_view_module_version": "1.5.0",
            "_view_name": "HBoxView",
            "box_style": "",
            "children": [
              "IPY_MODEL_098b6796c7c74c26a7b7a5f5a4d59586",
              "IPY_MODEL_587ece11f755420a9aef2b0f49d13346",
              "IPY_MODEL_f647198a61de4ff7b9306d254e597ea2"
            ],
            "layout": "IPY_MODEL_58288ccb3b184c80b0e6b45c8402f92e"
          }
        },
        "098b6796c7c74c26a7b7a5f5a4d59586": {
          "model_module": "@jupyter-widgets/controls",
          "model_name": "HTMLModel",
          "model_module_version": "1.5.0",
          "state": {
            "_dom_classes": [],
            "_model_module": "@jupyter-widgets/controls",
            "_model_module_version": "1.5.0",
            "_model_name": "HTMLModel",
            "_view_count": null,
            "_view_module": "@jupyter-widgets/controls",
            "_view_module_version": "1.5.0",
            "_view_name": "HTMLView",
            "description": "",
            "description_tooltip": null,
            "layout": "IPY_MODEL_9147cd575ccf4571af440d52c6f3f6eb",
            "placeholder": "​",
            "style": "IPY_MODEL_f7f8ee0ea4fa4cd183b14b06e10f6637",
            "value": "Fetching 5 files: 100%"
          }
        },
        "587ece11f755420a9aef2b0f49d13346": {
          "model_module": "@jupyter-widgets/controls",
          "model_name": "FloatProgressModel",
          "model_module_version": "1.5.0",
          "state": {
            "_dom_classes": [],
            "_model_module": "@jupyter-widgets/controls",
            "_model_module_version": "1.5.0",
            "_model_name": "FloatProgressModel",
            "_view_count": null,
            "_view_module": "@jupyter-widgets/controls",
            "_view_module_version": "1.5.0",
            "_view_name": "ProgressView",
            "bar_style": "success",
            "description": "",
            "description_tooltip": null,
            "layout": "IPY_MODEL_e515808f329f499eab953f79b4d1ae07",
            "max": 5,
            "min": 0,
            "orientation": "horizontal",
            "style": "IPY_MODEL_8bface83b10c43d184ec62f48814e1db",
            "value": 5
          }
        },
        "f647198a61de4ff7b9306d254e597ea2": {
          "model_module": "@jupyter-widgets/controls",
          "model_name": "HTMLModel",
          "model_module_version": "1.5.0",
          "state": {
            "_dom_classes": [],
            "_model_module": "@jupyter-widgets/controls",
            "_model_module_version": "1.5.0",
            "_model_name": "HTMLModel",
            "_view_count": null,
            "_view_module": "@jupyter-widgets/controls",
            "_view_module_version": "1.5.0",
            "_view_name": "HTMLView",
            "description": "",
            "description_tooltip": null,
            "layout": "IPY_MODEL_27533c870571405581b81fcff8a263c9",
            "placeholder": "​",
            "style": "IPY_MODEL_8bcaa70db9f043828a8ac2eeb00a847c",
            "value": " 5/5 [00:00&lt;00:00, 545.49it/s]"
          }
        },
        "58288ccb3b184c80b0e6b45c8402f92e": {
          "model_module": "@jupyter-widgets/base",
          "model_name": "LayoutModel",
          "model_module_version": "1.2.0",
          "state": {
            "_model_module": "@jupyter-widgets/base",
            "_model_module_version": "1.2.0",
            "_model_name": "LayoutModel",
            "_view_count": null,
            "_view_module": "@jupyter-widgets/base",
            "_view_module_version": "1.2.0",
            "_view_name": "LayoutView",
            "align_content": null,
            "align_items": null,
            "align_self": null,
            "border": null,
            "bottom": null,
            "display": null,
            "flex": null,
            "flex_flow": null,
            "grid_area": null,
            "grid_auto_columns": null,
            "grid_auto_flow": null,
            "grid_auto_rows": null,
            "grid_column": null,
            "grid_gap": null,
            "grid_row": null,
            "grid_template_areas": null,
            "grid_template_columns": null,
            "grid_template_rows": null,
            "height": null,
            "justify_content": null,
            "justify_items": null,
            "left": null,
            "margin": null,
            "max_height": null,
            "max_width": null,
            "min_height": null,
            "min_width": null,
            "object_fit": null,
            "object_position": null,
            "order": null,
            "overflow": null,
            "overflow_x": null,
            "overflow_y": null,
            "padding": null,
            "right": null,
            "top": null,
            "visibility": null,
            "width": null
          }
        },
        "9147cd575ccf4571af440d52c6f3f6eb": {
          "model_module": "@jupyter-widgets/base",
          "model_name": "LayoutModel",
          "model_module_version": "1.2.0",
          "state": {
            "_model_module": "@jupyter-widgets/base",
            "_model_module_version": "1.2.0",
            "_model_name": "LayoutModel",
            "_view_count": null,
            "_view_module": "@jupyter-widgets/base",
            "_view_module_version": "1.2.0",
            "_view_name": "LayoutView",
            "align_content": null,
            "align_items": null,
            "align_self": null,
            "border": null,
            "bottom": null,
            "display": null,
            "flex": null,
            "flex_flow": null,
            "grid_area": null,
            "grid_auto_columns": null,
            "grid_auto_flow": null,
            "grid_auto_rows": null,
            "grid_column": null,
            "grid_gap": null,
            "grid_row": null,
            "grid_template_areas": null,
            "grid_template_columns": null,
            "grid_template_rows": null,
            "height": null,
            "justify_content": null,
            "justify_items": null,
            "left": null,
            "margin": null,
            "max_height": null,
            "max_width": null,
            "min_height": null,
            "min_width": null,
            "object_fit": null,
            "object_position": null,
            "order": null,
            "overflow": null,
            "overflow_x": null,
            "overflow_y": null,
            "padding": null,
            "right": null,
            "top": null,
            "visibility": null,
            "width": null
          }
        },
        "f7f8ee0ea4fa4cd183b14b06e10f6637": {
          "model_module": "@jupyter-widgets/controls",
          "model_name": "DescriptionStyleModel",
          "model_module_version": "1.5.0",
          "state": {
            "_model_module": "@jupyter-widgets/controls",
            "_model_module_version": "1.5.0",
            "_model_name": "DescriptionStyleModel",
            "_view_count": null,
            "_view_module": "@jupyter-widgets/base",
            "_view_module_version": "1.2.0",
            "_view_name": "StyleView",
            "description_width": ""
          }
        },
        "e515808f329f499eab953f79b4d1ae07": {
          "model_module": "@jupyter-widgets/base",
          "model_name": "LayoutModel",
          "model_module_version": "1.2.0",
          "state": {
            "_model_module": "@jupyter-widgets/base",
            "_model_module_version": "1.2.0",
            "_model_name": "LayoutModel",
            "_view_count": null,
            "_view_module": "@jupyter-widgets/base",
            "_view_module_version": "1.2.0",
            "_view_name": "LayoutView",
            "align_content": null,
            "align_items": null,
            "align_self": null,
            "border": null,
            "bottom": null,
            "display": null,
            "flex": null,
            "flex_flow": null,
            "grid_area": null,
            "grid_auto_columns": null,
            "grid_auto_flow": null,
            "grid_auto_rows": null,
            "grid_column": null,
            "grid_gap": null,
            "grid_row": null,
            "grid_template_areas": null,
            "grid_template_columns": null,
            "grid_template_rows": null,
            "height": null,
            "justify_content": null,
            "justify_items": null,
            "left": null,
            "margin": null,
            "max_height": null,
            "max_width": null,
            "min_height": null,
            "min_width": null,
            "object_fit": null,
            "object_position": null,
            "order": null,
            "overflow": null,
            "overflow_x": null,
            "overflow_y": null,
            "padding": null,
            "right": null,
            "top": null,
            "visibility": null,
            "width": null
          }
        },
        "8bface83b10c43d184ec62f48814e1db": {
          "model_module": "@jupyter-widgets/controls",
          "model_name": "ProgressStyleModel",
          "model_module_version": "1.5.0",
          "state": {
            "_model_module": "@jupyter-widgets/controls",
            "_model_module_version": "1.5.0",
            "_model_name": "ProgressStyleModel",
            "_view_count": null,
            "_view_module": "@jupyter-widgets/base",
            "_view_module_version": "1.2.0",
            "_view_name": "StyleView",
            "bar_color": null,
            "description_width": ""
          }
        },
        "27533c870571405581b81fcff8a263c9": {
          "model_module": "@jupyter-widgets/base",
          "model_name": "LayoutModel",
          "model_module_version": "1.2.0",
          "state": {
            "_model_module": "@jupyter-widgets/base",
            "_model_module_version": "1.2.0",
            "_model_name": "LayoutModel",
            "_view_count": null,
            "_view_module": "@jupyter-widgets/base",
            "_view_module_version": "1.2.0",
            "_view_name": "LayoutView",
            "align_content": null,
            "align_items": null,
            "align_self": null,
            "border": null,
            "bottom": null,
            "display": null,
            "flex": null,
            "flex_flow": null,
            "grid_area": null,
            "grid_auto_columns": null,
            "grid_auto_flow": null,
            "grid_auto_rows": null,
            "grid_column": null,
            "grid_gap": null,
            "grid_row": null,
            "grid_template_areas": null,
            "grid_template_columns": null,
            "grid_template_rows": null,
            "height": null,
            "justify_content": null,
            "justify_items": null,
            "left": null,
            "margin": null,
            "max_height": null,
            "max_width": null,
            "min_height": null,
            "min_width": null,
            "object_fit": null,
            "object_position": null,
            "order": null,
            "overflow": null,
            "overflow_x": null,
            "overflow_y": null,
            "padding": null,
            "right": null,
            "top": null,
            "visibility": null,
            "width": null
          }
        },
        "8bcaa70db9f043828a8ac2eeb00a847c": {
          "model_module": "@jupyter-widgets/controls",
          "model_name": "DescriptionStyleModel",
          "model_module_version": "1.5.0",
          "state": {
            "_model_module": "@jupyter-widgets/controls",
            "_model_module_version": "1.5.0",
            "_model_name": "DescriptionStyleModel",
            "_view_count": null,
            "_view_module": "@jupyter-widgets/base",
            "_view_module_version": "1.2.0",
            "_view_name": "StyleView",
            "description_width": ""
          }
        }
      }
    }
  },
  "nbformat_minor": 0,
  "nbformat": 4,
  "cells": [
    {
      "cell_type": "code",
      "source": [
        "!pip install transformers datasets nltk rouge-score sacrebleu sentence-transformers sentencepiece fsspec==2025.3.2 bert-score --quiet\n",
        "!pip install indic-nlp-library camel-tools"
      ],
      "metadata": {
        "trusted": true,
        "id": "_HobtJ41zZYk",
        "outputId": "c9fa6dfe-4be9-4cd3-ea72-f33372341802",
        "colab": {
          "base_uri": "https://localhost:8080/"
        },
        "execution": {
          "iopub.status.idle": "2025-05-17T15:48:56.062775Z",
          "shell.execute_reply.started": "2025-05-17T15:45:40.577563Z",
          "shell.execute_reply": "2025-05-17T15:48:56.062039Z"
        }
      },
      "outputs": [
        {
          "output_type": "stream",
          "name": "stdout",
          "text": [
            "Requirement already satisfied: indic-nlp-library in /usr/local/lib/python3.11/dist-packages (0.92)\n",
            "Requirement already satisfied: camel-tools in /usr/local/lib/python3.11/dist-packages (1.5.6)\n",
            "Requirement already satisfied: sphinx-argparse in /usr/local/lib/python3.11/dist-packages (from indic-nlp-library) (0.5.2)\n",
            "Requirement already satisfied: sphinx-rtd-theme in /usr/local/lib/python3.11/dist-packages (from indic-nlp-library) (3.0.2)\n",
            "Requirement already satisfied: morfessor in /usr/local/lib/python3.11/dist-packages (from indic-nlp-library) (2.0.6)\n",
            "Requirement already satisfied: pandas in /usr/local/lib/python3.11/dist-packages (from indic-nlp-library) (2.2.2)\n",
            "Requirement already satisfied: numpy in /usr/local/lib/python3.11/dist-packages (from indic-nlp-library) (1.26.4)\n",
            "Requirement already satisfied: future in /usr/local/lib/python3.11/dist-packages (from camel-tools) (1.0.0)\n",
            "Requirement already satisfied: six in /usr/local/lib/python3.11/dist-packages (from camel-tools) (1.17.0)\n",
            "Requirement already satisfied: docopt in /usr/local/lib/python3.11/dist-packages (from camel-tools) (0.6.2)\n",
            "Requirement already satisfied: cachetools in /usr/local/lib/python3.11/dist-packages (from camel-tools) (5.5.2)\n",
            "Requirement already satisfied: scipy in /usr/local/lib/python3.11/dist-packages (from camel-tools) (1.15.3)\n",
            "Requirement already satisfied: scikit-learn in /usr/local/lib/python3.11/dist-packages (from camel-tools) (1.6.1)\n",
            "Requirement already satisfied: dill in /usr/local/lib/python3.11/dist-packages (from camel-tools) (0.3.7)\n",
            "Requirement already satisfied: torch>=2.0 in /usr/local/lib/python3.11/dist-packages (from camel-tools) (2.6.0+cu124)\n",
            "Requirement already satisfied: transformers<4.44.0,>=4.0 in /usr/local/lib/python3.11/dist-packages (from camel-tools) (4.43.4)\n",
            "Requirement already satisfied: editdistance in /usr/local/lib/python3.11/dist-packages (from camel-tools) (0.8.1)\n",
            "Requirement already satisfied: requests in /usr/local/lib/python3.11/dist-packages (from camel-tools) (2.32.3)\n",
            "Requirement already satisfied: emoji in /usr/local/lib/python3.11/dist-packages (from camel-tools) (2.14.1)\n",
            "Requirement already satisfied: pyrsistent in /usr/local/lib/python3.11/dist-packages (from camel-tools) (0.20.0)\n",
            "Requirement already satisfied: tabulate in /usr/local/lib/python3.11/dist-packages (from camel-tools) (0.9.0)\n",
            "Requirement already satisfied: tqdm in /usr/local/lib/python3.11/dist-packages (from camel-tools) (4.67.1)\n",
            "Requirement already satisfied: muddler in /usr/local/lib/python3.11/dist-packages (from camel-tools) (0.1.3)\n",
            "Requirement already satisfied: camel-kenlm>=2025.4.8 in /usr/local/lib/python3.11/dist-packages (from camel-tools) (2025.4.8)\n",
            "Requirement already satisfied: filelock in /usr/local/lib/python3.11/dist-packages (from torch>=2.0->camel-tools) (3.18.0)\n",
            "Requirement already satisfied: typing-extensions>=4.10.0 in /usr/local/lib/python3.11/dist-packages (from torch>=2.0->camel-tools) (4.14.0)\n",
            "Requirement already satisfied: networkx in /usr/local/lib/python3.11/dist-packages (from torch>=2.0->camel-tools) (3.5)\n",
            "Requirement already satisfied: jinja2 in /usr/local/lib/python3.11/dist-packages (from torch>=2.0->camel-tools) (3.1.6)\n",
            "Requirement already satisfied: fsspec in /usr/local/lib/python3.11/dist-packages (from torch>=2.0->camel-tools) (2025.3.2)\n",
            "Requirement already satisfied: nvidia-cuda-nvrtc-cu12==12.4.127 in /usr/local/lib/python3.11/dist-packages (from torch>=2.0->camel-tools) (12.4.127)\n",
            "Requirement already satisfied: nvidia-cuda-runtime-cu12==12.4.127 in /usr/local/lib/python3.11/dist-packages (from torch>=2.0->camel-tools) (12.4.127)\n",
            "Requirement already satisfied: nvidia-cuda-cupti-cu12==12.4.127 in /usr/local/lib/python3.11/dist-packages (from torch>=2.0->camel-tools) (12.4.127)\n",
            "Requirement already satisfied: nvidia-cudnn-cu12==9.1.0.70 in /usr/local/lib/python3.11/dist-packages (from torch>=2.0->camel-tools) (9.1.0.70)\n",
            "Requirement already satisfied: nvidia-cublas-cu12==12.4.5.8 in /usr/local/lib/python3.11/dist-packages (from torch>=2.0->camel-tools) (12.4.5.8)\n",
            "Requirement already satisfied: nvidia-cufft-cu12==11.2.1.3 in /usr/local/lib/python3.11/dist-packages (from torch>=2.0->camel-tools) (11.2.1.3)\n",
            "Requirement already satisfied: nvidia-curand-cu12==10.3.5.147 in /usr/local/lib/python3.11/dist-packages (from torch>=2.0->camel-tools) (10.3.5.147)\n",
            "Requirement already satisfied: nvidia-cusolver-cu12==11.6.1.9 in /usr/local/lib/python3.11/dist-packages (from torch>=2.0->camel-tools) (11.6.1.9)\n",
            "Requirement already satisfied: nvidia-cusparse-cu12==12.3.1.170 in /usr/local/lib/python3.11/dist-packages (from torch>=2.0->camel-tools) (12.3.1.170)\n",
            "Requirement already satisfied: nvidia-cusparselt-cu12==0.6.2 in /usr/local/lib/python3.11/dist-packages (from torch>=2.0->camel-tools) (0.6.2)\n",
            "Requirement already satisfied: nvidia-nccl-cu12==2.21.5 in /usr/local/lib/python3.11/dist-packages (from torch>=2.0->camel-tools) (2.21.5)\n",
            "Requirement already satisfied: nvidia-nvtx-cu12==12.4.127 in /usr/local/lib/python3.11/dist-packages (from torch>=2.0->camel-tools) (12.4.127)\n",
            "Requirement already satisfied: nvidia-nvjitlink-cu12==12.4.127 in /usr/local/lib/python3.11/dist-packages (from torch>=2.0->camel-tools) (12.4.127)\n",
            "Requirement already satisfied: triton==3.2.0 in /usr/local/lib/python3.11/dist-packages (from torch>=2.0->camel-tools) (3.2.0)\n",
            "Requirement already satisfied: sympy==1.13.1 in /usr/local/lib/python3.11/dist-packages (from torch>=2.0->camel-tools) (1.13.1)\n",
            "Requirement already satisfied: mpmath<1.4,>=1.1.0 in /usr/local/lib/python3.11/dist-packages (from sympy==1.13.1->torch>=2.0->camel-tools) (1.3.0)\n",
            "Requirement already satisfied: huggingface-hub<1.0,>=0.23.2 in /usr/local/lib/python3.11/dist-packages (from transformers<4.44.0,>=4.0->camel-tools) (0.32.4)\n",
            "Requirement already satisfied: packaging>=20.0 in /usr/local/lib/python3.11/dist-packages (from transformers<4.44.0,>=4.0->camel-tools) (24.2)\n",
            "Requirement already satisfied: pyyaml>=5.1 in /usr/local/lib/python3.11/dist-packages (from transformers<4.44.0,>=4.0->camel-tools) (6.0.2)\n",
            "Requirement already satisfied: regex!=2019.12.17 in /usr/local/lib/python3.11/dist-packages (from transformers<4.44.0,>=4.0->camel-tools) (2024.11.6)\n",
            "Requirement already satisfied: safetensors>=0.4.1 in /usr/local/lib/python3.11/dist-packages (from transformers<4.44.0,>=4.0->camel-tools) (0.5.3)\n",
            "Requirement already satisfied: tokenizers<0.20,>=0.19 in /usr/local/lib/python3.11/dist-packages (from transformers<4.44.0,>=4.0->camel-tools) (0.19.1)\n",
            "Requirement already satisfied: python-dateutil>=2.8.2 in /usr/local/lib/python3.11/dist-packages (from pandas->indic-nlp-library) (2.9.0.post0)\n",
            "Requirement already satisfied: pytz>=2020.1 in /usr/local/lib/python3.11/dist-packages (from pandas->indic-nlp-library) (2025.2)\n",
            "Requirement already satisfied: tzdata>=2022.7 in /usr/local/lib/python3.11/dist-packages (from pandas->indic-nlp-library) (2025.2)\n",
            "Requirement already satisfied: charset-normalizer<4,>=2 in /usr/local/lib/python3.11/dist-packages (from requests->camel-tools) (3.4.2)\n",
            "Requirement already satisfied: idna<4,>=2.5 in /usr/local/lib/python3.11/dist-packages (from requests->camel-tools) (3.10)\n",
            "Requirement already satisfied: urllib3<3,>=1.21.1 in /usr/local/lib/python3.11/dist-packages (from requests->camel-tools) (2.4.0)\n",
            "Requirement already satisfied: certifi>=2017.4.17 in /usr/local/lib/python3.11/dist-packages (from requests->camel-tools) (2025.4.26)\n",
            "Requirement already satisfied: joblib>=1.2.0 in /usr/local/lib/python3.11/dist-packages (from scikit-learn->camel-tools) (1.5.1)\n",
            "Requirement already satisfied: threadpoolctl>=3.1.0 in /usr/local/lib/python3.11/dist-packages (from scikit-learn->camel-tools) (3.6.0)\n",
            "Requirement already satisfied: sphinx>=5.1.0 in /usr/local/lib/python3.11/dist-packages (from sphinx-argparse->indic-nlp-library) (8.2.3)\n",
            "Requirement already satisfied: docutils>=0.19 in /usr/local/lib/python3.11/dist-packages (from sphinx-argparse->indic-nlp-library) (0.21.2)\n",
            "Requirement already satisfied: sphinxcontrib-jquery<5,>=4 in /usr/local/lib/python3.11/dist-packages (from sphinx-rtd-theme->indic-nlp-library) (4.1)\n",
            "Requirement already satisfied: hf-xet<2.0.0,>=1.1.2 in /usr/local/lib/python3.11/dist-packages (from huggingface-hub<1.0,>=0.23.2->transformers<4.44.0,>=4.0->camel-tools) (1.1.2)\n",
            "Requirement already satisfied: sphinxcontrib-applehelp>=1.0.7 in /usr/local/lib/python3.11/dist-packages (from sphinx>=5.1.0->sphinx-argparse->indic-nlp-library) (2.0.0)\n",
            "Requirement already satisfied: sphinxcontrib-devhelp>=1.0.6 in /usr/local/lib/python3.11/dist-packages (from sphinx>=5.1.0->sphinx-argparse->indic-nlp-library) (2.0.0)\n",
            "Requirement already satisfied: sphinxcontrib-htmlhelp>=2.0.6 in /usr/local/lib/python3.11/dist-packages (from sphinx>=5.1.0->sphinx-argparse->indic-nlp-library) (2.1.0)\n",
            "Requirement already satisfied: sphinxcontrib-jsmath>=1.0.1 in /usr/local/lib/python3.11/dist-packages (from sphinx>=5.1.0->sphinx-argparse->indic-nlp-library) (1.0.1)\n",
            "Requirement already satisfied: sphinxcontrib-qthelp>=1.0.6 in /usr/local/lib/python3.11/dist-packages (from sphinx>=5.1.0->sphinx-argparse->indic-nlp-library) (2.0.0)\n",
            "Requirement already satisfied: sphinxcontrib-serializinghtml>=1.1.9 in /usr/local/lib/python3.11/dist-packages (from sphinx>=5.1.0->sphinx-argparse->indic-nlp-library) (2.0.0)\n",
            "Requirement already satisfied: Pygments>=2.17 in /usr/local/lib/python3.11/dist-packages (from sphinx>=5.1.0->sphinx-argparse->indic-nlp-library) (2.19.1)\n",
            "Requirement already satisfied: snowballstemmer>=2.2 in /usr/local/lib/python3.11/dist-packages (from sphinx>=5.1.0->sphinx-argparse->indic-nlp-library) (3.0.1)\n",
            "Requirement already satisfied: babel>=2.13 in /usr/local/lib/python3.11/dist-packages (from sphinx>=5.1.0->sphinx-argparse->indic-nlp-library) (2.17.0)\n",
            "Requirement already satisfied: alabaster>=0.7.14 in /usr/local/lib/python3.11/dist-packages (from sphinx>=5.1.0->sphinx-argparse->indic-nlp-library) (1.0.0)\n",
            "Requirement already satisfied: imagesize>=1.3 in /usr/local/lib/python3.11/dist-packages (from sphinx>=5.1.0->sphinx-argparse->indic-nlp-library) (1.4.1)\n",
            "Requirement already satisfied: roman-numerals-py>=1.0.0 in /usr/local/lib/python3.11/dist-packages (from sphinx>=5.1.0->sphinx-argparse->indic-nlp-library) (3.1.0)\n",
            "Requirement already satisfied: MarkupSafe>=2.0 in /usr/local/lib/python3.11/dist-packages (from jinja2->torch>=2.0->camel-tools) (3.0.2)\n"
          ]
        }
      ],
      "execution_count": 1
    },
    {
      "cell_type": "code",
      "source": [
        "!pip install unbabel-comet\n",
        "!pip install evaluate"
      ],
      "metadata": {
        "id": "Pqv2DWjy3eo5",
        "outputId": "4d965437-a241-47de-ac79-805e3de38066",
        "colab": {
          "base_uri": "https://localhost:8080/"
        },
        "trusted": true
      },
      "outputs": [
        {
          "output_type": "stream",
          "name": "stdout",
          "text": [
            "Requirement already satisfied: unbabel-comet in /usr/local/lib/python3.11/dist-packages (2.2.6)\n",
            "Requirement already satisfied: entmax<2.0,>=1.1 in /usr/local/lib/python3.11/dist-packages (from unbabel-comet) (1.3)\n",
            "Requirement already satisfied: huggingface-hub<1.0,>=0.19.3 in /usr/local/lib/python3.11/dist-packages (from unbabel-comet) (0.32.4)\n",
            "Requirement already satisfied: jsonargparse==3.13.1 in /usr/local/lib/python3.11/dist-packages (from unbabel-comet) (3.13.1)\n",
            "Requirement already satisfied: numpy<2.0.0,>=1.20.0 in /usr/local/lib/python3.11/dist-packages (from unbabel-comet) (1.26.4)\n",
            "Requirement already satisfied: pandas>=1.4.1 in /usr/local/lib/python3.11/dist-packages (from unbabel-comet) (2.2.2)\n",
            "Requirement already satisfied: protobuf<5.0.0,>=4.24.4 in /usr/local/lib/python3.11/dist-packages (from unbabel-comet) (4.25.8)\n",
            "Requirement already satisfied: pytorch-lightning<3.0.0,>=2.0.0 in /usr/local/lib/python3.11/dist-packages (from unbabel-comet) (2.5.1.post0)\n",
            "Requirement already satisfied: sacrebleu<3.0.0,>=2.0.0 in /usr/local/lib/python3.11/dist-packages (from unbabel-comet) (2.5.1)\n",
            "Requirement already satisfied: scipy<2.0.0,>=1.5.4 in /usr/local/lib/python3.11/dist-packages (from unbabel-comet) (1.15.3)\n",
            "Requirement already satisfied: sentencepiece<0.3.0,>=0.2.0 in /usr/local/lib/python3.11/dist-packages (from unbabel-comet) (0.2.0)\n",
            "Requirement already satisfied: torch>=1.6.0 in /usr/local/lib/python3.11/dist-packages (from unbabel-comet) (2.6.0+cu124)\n",
            "Requirement already satisfied: torchmetrics<0.11.0,>=0.10.2 in /usr/local/lib/python3.11/dist-packages (from unbabel-comet) (0.10.3)\n",
            "Requirement already satisfied: transformers<5.0,>=4.17 in /usr/local/lib/python3.11/dist-packages (from unbabel-comet) (4.43.4)\n",
            "Requirement already satisfied: PyYAML>=3.13 in /usr/local/lib/python3.11/dist-packages (from jsonargparse==3.13.1->unbabel-comet) (6.0.2)\n",
            "Requirement already satisfied: filelock in /usr/local/lib/python3.11/dist-packages (from huggingface-hub<1.0,>=0.19.3->unbabel-comet) (3.18.0)\n",
            "Requirement already satisfied: fsspec>=2023.5.0 in /usr/local/lib/python3.11/dist-packages (from huggingface-hub<1.0,>=0.19.3->unbabel-comet) (2025.3.2)\n",
            "Requirement already satisfied: packaging>=20.9 in /usr/local/lib/python3.11/dist-packages (from huggingface-hub<1.0,>=0.19.3->unbabel-comet) (24.2)\n",
            "Requirement already satisfied: requests in /usr/local/lib/python3.11/dist-packages (from huggingface-hub<1.0,>=0.19.3->unbabel-comet) (2.32.3)\n",
            "Requirement already satisfied: tqdm>=4.42.1 in /usr/local/lib/python3.11/dist-packages (from huggingface-hub<1.0,>=0.19.3->unbabel-comet) (4.67.1)\n",
            "Requirement already satisfied: typing-extensions>=3.7.4.3 in /usr/local/lib/python3.11/dist-packages (from huggingface-hub<1.0,>=0.19.3->unbabel-comet) (4.14.0)\n",
            "Requirement already satisfied: hf-xet<2.0.0,>=1.1.2 in /usr/local/lib/python3.11/dist-packages (from huggingface-hub<1.0,>=0.19.3->unbabel-comet) (1.1.2)\n",
            "Requirement already satisfied: python-dateutil>=2.8.2 in /usr/local/lib/python3.11/dist-packages (from pandas>=1.4.1->unbabel-comet) (2.9.0.post0)\n",
            "Requirement already satisfied: pytz>=2020.1 in /usr/local/lib/python3.11/dist-packages (from pandas>=1.4.1->unbabel-comet) (2025.2)\n",
            "Requirement already satisfied: tzdata>=2022.7 in /usr/local/lib/python3.11/dist-packages (from pandas>=1.4.1->unbabel-comet) (2025.2)\n",
            "Requirement already satisfied: lightning-utilities>=0.10.0 in /usr/local/lib/python3.11/dist-packages (from pytorch-lightning<3.0.0,>=2.0.0->unbabel-comet) (0.14.3)\n",
            "Requirement already satisfied: portalocker in /usr/local/lib/python3.11/dist-packages (from sacrebleu<3.0.0,>=2.0.0->unbabel-comet) (3.2.0)\n",
            "Requirement already satisfied: regex in /usr/local/lib/python3.11/dist-packages (from sacrebleu<3.0.0,>=2.0.0->unbabel-comet) (2024.11.6)\n",
            "Requirement already satisfied: tabulate>=0.8.9 in /usr/local/lib/python3.11/dist-packages (from sacrebleu<3.0.0,>=2.0.0->unbabel-comet) (0.9.0)\n",
            "Requirement already satisfied: colorama in /usr/local/lib/python3.11/dist-packages (from sacrebleu<3.0.0,>=2.0.0->unbabel-comet) (0.4.6)\n",
            "Requirement already satisfied: lxml in /usr/local/lib/python3.11/dist-packages (from sacrebleu<3.0.0,>=2.0.0->unbabel-comet) (5.4.0)\n",
            "Requirement already satisfied: networkx in /usr/local/lib/python3.11/dist-packages (from torch>=1.6.0->unbabel-comet) (3.5)\n",
            "Requirement already satisfied: jinja2 in /usr/local/lib/python3.11/dist-packages (from torch>=1.6.0->unbabel-comet) (3.1.6)\n",
            "Requirement already satisfied: nvidia-cuda-nvrtc-cu12==12.4.127 in /usr/local/lib/python3.11/dist-packages (from torch>=1.6.0->unbabel-comet) (12.4.127)\n",
            "Requirement already satisfied: nvidia-cuda-runtime-cu12==12.4.127 in /usr/local/lib/python3.11/dist-packages (from torch>=1.6.0->unbabel-comet) (12.4.127)\n",
            "Requirement already satisfied: nvidia-cuda-cupti-cu12==12.4.127 in /usr/local/lib/python3.11/dist-packages (from torch>=1.6.0->unbabel-comet) (12.4.127)\n",
            "Requirement already satisfied: nvidia-cudnn-cu12==9.1.0.70 in /usr/local/lib/python3.11/dist-packages (from torch>=1.6.0->unbabel-comet) (9.1.0.70)\n",
            "Requirement already satisfied: nvidia-cublas-cu12==12.4.5.8 in /usr/local/lib/python3.11/dist-packages (from torch>=1.6.0->unbabel-comet) (12.4.5.8)\n",
            "Requirement already satisfied: nvidia-cufft-cu12==11.2.1.3 in /usr/local/lib/python3.11/dist-packages (from torch>=1.6.0->unbabel-comet) (11.2.1.3)\n",
            "Requirement already satisfied: nvidia-curand-cu12==10.3.5.147 in /usr/local/lib/python3.11/dist-packages (from torch>=1.6.0->unbabel-comet) (10.3.5.147)\n",
            "Requirement already satisfied: nvidia-cusolver-cu12==11.6.1.9 in /usr/local/lib/python3.11/dist-packages (from torch>=1.6.0->unbabel-comet) (11.6.1.9)\n",
            "Requirement already satisfied: nvidia-cusparse-cu12==12.3.1.170 in /usr/local/lib/python3.11/dist-packages (from torch>=1.6.0->unbabel-comet) (12.3.1.170)\n",
            "Requirement already satisfied: nvidia-cusparselt-cu12==0.6.2 in /usr/local/lib/python3.11/dist-packages (from torch>=1.6.0->unbabel-comet) (0.6.2)\n",
            "Requirement already satisfied: nvidia-nccl-cu12==2.21.5 in /usr/local/lib/python3.11/dist-packages (from torch>=1.6.0->unbabel-comet) (2.21.5)\n",
            "Requirement already satisfied: nvidia-nvtx-cu12==12.4.127 in /usr/local/lib/python3.11/dist-packages (from torch>=1.6.0->unbabel-comet) (12.4.127)\n",
            "Requirement already satisfied: nvidia-nvjitlink-cu12==12.4.127 in /usr/local/lib/python3.11/dist-packages (from torch>=1.6.0->unbabel-comet) (12.4.127)\n",
            "Requirement already satisfied: triton==3.2.0 in /usr/local/lib/python3.11/dist-packages (from torch>=1.6.0->unbabel-comet) (3.2.0)\n",
            "Requirement already satisfied: sympy==1.13.1 in /usr/local/lib/python3.11/dist-packages (from torch>=1.6.0->unbabel-comet) (1.13.1)\n",
            "Requirement already satisfied: mpmath<1.4,>=1.1.0 in /usr/local/lib/python3.11/dist-packages (from sympy==1.13.1->torch>=1.6.0->unbabel-comet) (1.3.0)\n",
            "Requirement already satisfied: safetensors>=0.4.1 in /usr/local/lib/python3.11/dist-packages (from transformers<5.0,>=4.17->unbabel-comet) (0.5.3)\n",
            "Requirement already satisfied: tokenizers<0.20,>=0.19 in /usr/local/lib/python3.11/dist-packages (from transformers<5.0,>=4.17->unbabel-comet) (0.19.1)\n",
            "Requirement already satisfied: aiohttp!=4.0.0a0,!=4.0.0a1 in /usr/local/lib/python3.11/dist-packages (from fsspec[http]>=2022.5.0->pytorch-lightning<3.0.0,>=2.0.0->unbabel-comet) (3.11.15)\n",
            "Requirement already satisfied: setuptools in /usr/local/lib/python3.11/dist-packages (from lightning-utilities>=0.10.0->pytorch-lightning<3.0.0,>=2.0.0->unbabel-comet) (75.2.0)\n",
            "Requirement already satisfied: six>=1.5 in /usr/local/lib/python3.11/dist-packages (from python-dateutil>=2.8.2->pandas>=1.4.1->unbabel-comet) (1.17.0)\n",
            "Requirement already satisfied: MarkupSafe>=2.0 in /usr/local/lib/python3.11/dist-packages (from jinja2->torch>=1.6.0->unbabel-comet) (3.0.2)\n",
            "Requirement already satisfied: charset-normalizer<4,>=2 in /usr/local/lib/python3.11/dist-packages (from requests->huggingface-hub<1.0,>=0.19.3->unbabel-comet) (3.4.2)\n",
            "Requirement already satisfied: idna<4,>=2.5 in /usr/local/lib/python3.11/dist-packages (from requests->huggingface-hub<1.0,>=0.19.3->unbabel-comet) (3.10)\n",
            "Requirement already satisfied: urllib3<3,>=1.21.1 in /usr/local/lib/python3.11/dist-packages (from requests->huggingface-hub<1.0,>=0.19.3->unbabel-comet) (2.4.0)\n",
            "Requirement already satisfied: certifi>=2017.4.17 in /usr/local/lib/python3.11/dist-packages (from requests->huggingface-hub<1.0,>=0.19.3->unbabel-comet) (2025.4.26)\n",
            "Requirement already satisfied: aiohappyeyeballs>=2.3.0 in /usr/local/lib/python3.11/dist-packages (from aiohttp!=4.0.0a0,!=4.0.0a1->fsspec[http]>=2022.5.0->pytorch-lightning<3.0.0,>=2.0.0->unbabel-comet) (2.6.1)\n",
            "Requirement already satisfied: aiosignal>=1.1.2 in /usr/local/lib/python3.11/dist-packages (from aiohttp!=4.0.0a0,!=4.0.0a1->fsspec[http]>=2022.5.0->pytorch-lightning<3.0.0,>=2.0.0->unbabel-comet) (1.3.2)\n",
            "Requirement already satisfied: attrs>=17.3.0 in /usr/local/lib/python3.11/dist-packages (from aiohttp!=4.0.0a0,!=4.0.0a1->fsspec[http]>=2022.5.0->pytorch-lightning<3.0.0,>=2.0.0->unbabel-comet) (25.3.0)\n",
            "Requirement already satisfied: frozenlist>=1.1.1 in /usr/local/lib/python3.11/dist-packages (from aiohttp!=4.0.0a0,!=4.0.0a1->fsspec[http]>=2022.5.0->pytorch-lightning<3.0.0,>=2.0.0->unbabel-comet) (1.6.0)\n",
            "Requirement already satisfied: multidict<7.0,>=4.5 in /usr/local/lib/python3.11/dist-packages (from aiohttp!=4.0.0a0,!=4.0.0a1->fsspec[http]>=2022.5.0->pytorch-lightning<3.0.0,>=2.0.0->unbabel-comet) (6.4.4)\n",
            "Requirement already satisfied: propcache>=0.2.0 in /usr/local/lib/python3.11/dist-packages (from aiohttp!=4.0.0a0,!=4.0.0a1->fsspec[http]>=2022.5.0->pytorch-lightning<3.0.0,>=2.0.0->unbabel-comet) (0.3.1)\n",
            "Requirement already satisfied: yarl<2.0,>=1.17.0 in /usr/local/lib/python3.11/dist-packages (from aiohttp!=4.0.0a0,!=4.0.0a1->fsspec[http]>=2022.5.0->pytorch-lightning<3.0.0,>=2.0.0->unbabel-comet) (1.20.0)\n",
            "Requirement already satisfied: evaluate in /usr/local/lib/python3.11/dist-packages (0.4.3)\n",
            "Requirement already satisfied: datasets>=2.0.0 in /usr/local/lib/python3.11/dist-packages (from evaluate) (2.14.4)\n",
            "Requirement already satisfied: numpy>=1.17 in /usr/local/lib/python3.11/dist-packages (from evaluate) (1.26.4)\n",
            "Requirement already satisfied: dill in /usr/local/lib/python3.11/dist-packages (from evaluate) (0.3.7)\n",
            "Requirement already satisfied: pandas in /usr/local/lib/python3.11/dist-packages (from evaluate) (2.2.2)\n",
            "Requirement already satisfied: requests>=2.19.0 in /usr/local/lib/python3.11/dist-packages (from evaluate) (2.32.3)\n",
            "Requirement already satisfied: tqdm>=4.62.1 in /usr/local/lib/python3.11/dist-packages (from evaluate) (4.67.1)\n",
            "Requirement already satisfied: xxhash in /usr/local/lib/python3.11/dist-packages (from evaluate) (3.5.0)\n",
            "Requirement already satisfied: multiprocess in /usr/local/lib/python3.11/dist-packages (from evaluate) (0.70.15)\n",
            "Requirement already satisfied: fsspec>=2021.05.0 in /usr/local/lib/python3.11/dist-packages (from fsspec[http]>=2021.05.0->evaluate) (2025.3.2)\n",
            "Requirement already satisfied: huggingface-hub>=0.7.0 in /usr/local/lib/python3.11/dist-packages (from evaluate) (0.32.4)\n",
            "Requirement already satisfied: packaging in /usr/local/lib/python3.11/dist-packages (from evaluate) (24.2)\n",
            "Requirement already satisfied: pyarrow>=8.0.0 in /usr/local/lib/python3.11/dist-packages (from datasets>=2.0.0->evaluate) (18.1.0)\n",
            "Requirement already satisfied: aiohttp in /usr/local/lib/python3.11/dist-packages (from datasets>=2.0.0->evaluate) (3.11.15)\n",
            "Requirement already satisfied: pyyaml>=5.1 in /usr/local/lib/python3.11/dist-packages (from datasets>=2.0.0->evaluate) (6.0.2)\n",
            "Requirement already satisfied: filelock in /usr/local/lib/python3.11/dist-packages (from huggingface-hub>=0.7.0->evaluate) (3.18.0)\n",
            "Requirement already satisfied: typing-extensions>=3.7.4.3 in /usr/local/lib/python3.11/dist-packages (from huggingface-hub>=0.7.0->evaluate) (4.14.0)\n",
            "Requirement already satisfied: hf-xet<2.0.0,>=1.1.2 in /usr/local/lib/python3.11/dist-packages (from huggingface-hub>=0.7.0->evaluate) (1.1.2)\n",
            "Requirement already satisfied: charset-normalizer<4,>=2 in /usr/local/lib/python3.11/dist-packages (from requests>=2.19.0->evaluate) (3.4.2)\n",
            "Requirement already satisfied: idna<4,>=2.5 in /usr/local/lib/python3.11/dist-packages (from requests>=2.19.0->evaluate) (3.10)\n",
            "Requirement already satisfied: urllib3<3,>=1.21.1 in /usr/local/lib/python3.11/dist-packages (from requests>=2.19.0->evaluate) (2.4.0)\n",
            "Requirement already satisfied: certifi>=2017.4.17 in /usr/local/lib/python3.11/dist-packages (from requests>=2.19.0->evaluate) (2025.4.26)\n",
            "Requirement already satisfied: python-dateutil>=2.8.2 in /usr/local/lib/python3.11/dist-packages (from pandas->evaluate) (2.9.0.post0)\n",
            "Requirement already satisfied: pytz>=2020.1 in /usr/local/lib/python3.11/dist-packages (from pandas->evaluate) (2025.2)\n",
            "Requirement already satisfied: tzdata>=2022.7 in /usr/local/lib/python3.11/dist-packages (from pandas->evaluate) (2025.2)\n",
            "Requirement already satisfied: aiohappyeyeballs>=2.3.0 in /usr/local/lib/python3.11/dist-packages (from aiohttp->datasets>=2.0.0->evaluate) (2.6.1)\n",
            "Requirement already satisfied: aiosignal>=1.1.2 in /usr/local/lib/python3.11/dist-packages (from aiohttp->datasets>=2.0.0->evaluate) (1.3.2)\n",
            "Requirement already satisfied: attrs>=17.3.0 in /usr/local/lib/python3.11/dist-packages (from aiohttp->datasets>=2.0.0->evaluate) (25.3.0)\n",
            "Requirement already satisfied: frozenlist>=1.1.1 in /usr/local/lib/python3.11/dist-packages (from aiohttp->datasets>=2.0.0->evaluate) (1.6.0)\n",
            "Requirement already satisfied: multidict<7.0,>=4.5 in /usr/local/lib/python3.11/dist-packages (from aiohttp->datasets>=2.0.0->evaluate) (6.4.4)\n",
            "Requirement already satisfied: propcache>=0.2.0 in /usr/local/lib/python3.11/dist-packages (from aiohttp->datasets>=2.0.0->evaluate) (0.3.1)\n",
            "Requirement already satisfied: yarl<2.0,>=1.17.0 in /usr/local/lib/python3.11/dist-packages (from aiohttp->datasets>=2.0.0->evaluate) (1.20.0)\n",
            "Requirement already satisfied: six>=1.5 in /usr/local/lib/python3.11/dist-packages (from python-dateutil>=2.8.2->pandas->evaluate) (1.17.0)\n"
          ]
        }
      ],
      "execution_count": 2
    },
    {
      "metadata": {
        "id": "jfXr1epW3nY8"
      },
      "cell_type": "code",
      "source": [
        "# ─── IMPORTS ─────────────────────────────────────────────\n",
        "import os\n",
        "import json\n",
        "import hashlib\n",
        "import numpy as np\n",
        "import torch\n",
        "import pandas as pd\n",
        "import os\n",
        "from rouge_score import rouge_scorer\n",
        "from nltk.translate.meteor_score import meteor_score\n",
        "import sacrebleu\n",
        "from sentence_transformers import util\n",
        "from transformers import AutoTokenizer, AutoModelForSeq2SeqLM, AutoModel\n",
        "from bert_score import score as bert_score\n",
        "\n",
        "from nltk.tokenize import word_tokenize\n",
        "from indicnlp.tokenize.indic_tokenize import trivial_tokenize\n",
        "from camel_tools.tokenizers.word import simple_word_tokenize\n",
        "from nltk.translate.bleu_score import corpus_bleu, SmoothingFunction\n",
        "from evaluate import load as evaluate_load"
      ],
      "outputs": [],
      "execution_count": 11
    },
    {
      "metadata": {
        "colab": {
          "base_uri": "https://localhost:8080/"
        },
        "id": "1gl36JDN3nY8",
        "outputId": "33282f8f-5d4d-4288-ac02-4ead30f3d551"
      },
      "cell_type": "code",
      "source": [
        "# Install required packages\n",
        "import nltk\n",
        "nltk.download('wordnet')\n",
        "nltk.download('punkt')\n",
        "nltk.download('punkt_tab')\n"
      ],
      "outputs": [
        {
          "output_type": "stream",
          "name": "stderr",
          "text": [
            "[nltk_data] Downloading package wordnet to /root/nltk_data...\n",
            "[nltk_data]   Package wordnet is already up-to-date!\n",
            "[nltk_data] Downloading package punkt to /root/nltk_data...\n",
            "[nltk_data]   Package punkt is already up-to-date!\n",
            "[nltk_data] Downloading package punkt_tab to /root/nltk_data...\n",
            "[nltk_data]   Package punkt_tab is already up-to-date!\n"
          ]
        },
        {
          "output_type": "execute_result",
          "data": {
            "text/plain": [
              "True"
            ]
          },
          "metadata": {},
          "execution_count": 12
        }
      ],
      "execution_count": 12
    },
    {
      "cell_type": "code",
      "source": [
        "!pip install -U gdown\n",
        "!gdown --folder 1QdxrYnelt9poi45eLT5xgObihDRb_OtV -O /content/103080"
      ],
      "metadata": {
        "colab": {
          "base_uri": "https://localhost:8080/"
        },
        "id": "mtiJQX5wbiU3",
        "outputId": "0bfb0413-0a7c-48df-8935-51a45a91f20c"
      },
      "execution_count": 13,
      "outputs": [
        {
          "output_type": "stream",
          "name": "stdout",
          "text": [
            "Requirement already satisfied: gdown in /usr/local/lib/python3.11/dist-packages (5.2.0)\n",
            "Requirement already satisfied: beautifulsoup4 in /usr/local/lib/python3.11/dist-packages (from gdown) (4.13.4)\n",
            "Requirement already satisfied: filelock in /usr/local/lib/python3.11/dist-packages (from gdown) (3.18.0)\n",
            "Requirement already satisfied: requests[socks] in /usr/local/lib/python3.11/dist-packages (from gdown) (2.32.3)\n",
            "Requirement already satisfied: tqdm in /usr/local/lib/python3.11/dist-packages (from gdown) (4.67.1)\n",
            "Requirement already satisfied: soupsieve>1.2 in /usr/local/lib/python3.11/dist-packages (from beautifulsoup4->gdown) (2.7)\n",
            "Requirement already satisfied: typing-extensions>=4.0.0 in /usr/local/lib/python3.11/dist-packages (from beautifulsoup4->gdown) (4.14.0)\n",
            "Requirement already satisfied: charset-normalizer<4,>=2 in /usr/local/lib/python3.11/dist-packages (from requests[socks]->gdown) (3.4.2)\n",
            "Requirement already satisfied: idna<4,>=2.5 in /usr/local/lib/python3.11/dist-packages (from requests[socks]->gdown) (3.10)\n",
            "Requirement already satisfied: urllib3<3,>=1.21.1 in /usr/local/lib/python3.11/dist-packages (from requests[socks]->gdown) (2.4.0)\n",
            "Requirement already satisfied: certifi>=2017.4.17 in /usr/local/lib/python3.11/dist-packages (from requests[socks]->gdown) (2025.4.26)\n",
            "Requirement already satisfied: PySocks!=1.5.7,>=1.5.6 in /usr/local/lib/python3.11/dist-packages (from requests[socks]->gdown) (1.7.1)\n",
            "Retrieving folder contents\n",
            "Retrieving folder 1rzaJxn-bvoSXzs4Zhyac-YWjH-HxFUEM 1_Pooling\n",
            "Processing file 1GwEAz43APaFICfzVB_VRreAEvfr1Ra20 config.json\n",
            "Processing file 1p7CoqRUhOIqXYcTuY_d-qYvZLTjcpxki config_sentence_transformers.json\n",
            "Processing file 1oUflzLJYyHewOzW_X_iDjsLxd8ppvYzx config.json\n",
            "Processing file 1IcFz-ITRtZkY6AC-x9ieb5CAdnNrzmsT modules.json\n",
            "Processing file 115xWQSGruGaZie1V8KVg4_-Xw2DjF8ah pytorch_model.bin\n",
            "Processing file 1Q7s6JhhsWmoWP09_n6zR9jJM4fU0lTz- README.md\n",
            "Processing file 1rn6Sue3wcp44qm3whgJtrVfBDkEd9BWH sentence_bert_config.json\n",
            "Processing file 1BudqNXrBJMzy7tYPxVUezizSpAQs2TMi special_tokens_map.json\n",
            "Processing file 1nWX9rbnv1V18rJN2tKrWNCI_Ulpp2-ds tokenizer_config.json\n",
            "Processing file 1Cev_MvvPrZvQ87Z0WcjH96kTVgXY9xkc tokenizer.json\n",
            "Processing file 1bkHtwyjLYLLwSHaSzvstD_dQWIKchF0B vocab.txt\n",
            "Retrieving folder contents completed\n",
            "Building directory structure\n",
            "Building directory structure completed\n",
            "Downloading...\n",
            "From: https://drive.google.com/uc?id=1GwEAz43APaFICfzVB_VRreAEvfr1Ra20\n",
            "To: /content/103080/1_Pooling/config.json\n",
            "100% 190/190 [00:00<00:00, 1.01MB/s]\n",
            "Downloading...\n",
            "From: https://drive.google.com/uc?id=1p7CoqRUhOIqXYcTuY_d-qYvZLTjcpxki\n",
            "To: /content/103080/config_sentence_transformers.json\n",
            "100% 123/123 [00:00<00:00, 728kB/s]\n",
            "Downloading...\n",
            "From: https://drive.google.com/uc?id=1oUflzLJYyHewOzW_X_iDjsLxd8ppvYzx\n",
            "To: /content/103080/config.json\n",
            "100% 594/594 [00:00<00:00, 3.44MB/s]\n",
            "Downloading...\n",
            "From: https://drive.google.com/uc?id=1IcFz-ITRtZkY6AC-x9ieb5CAdnNrzmsT\n",
            "To: /content/103080/modules.json\n",
            "100% 229/229 [00:00<00:00, 1.24MB/s]\n",
            "Downloading...\n",
            "From (original): https://drive.google.com/uc?id=115xWQSGruGaZie1V8KVg4_-Xw2DjF8ah\n",
            "From (redirected): https://drive.google.com/uc?id=115xWQSGruGaZie1V8KVg4_-Xw2DjF8ah&confirm=t&uuid=ee670769-fb65-4ea4-af9a-dec8ff675a10\n",
            "To: /content/103080/pytorch_model.bin\n",
            "100% 438M/438M [00:01<00:00, 254MB/s]\n",
            "Downloading...\n",
            "From: https://drive.google.com/uc?id=1Q7s6JhhsWmoWP09_n6zR9jJM4fU0lTz-\n",
            "To: /content/103080/README.md\n",
            "100% 3.79k/3.79k [00:00<00:00, 23.9MB/s]\n",
            "Downloading...\n",
            "From: https://drive.google.com/uc?id=1rn6Sue3wcp44qm3whgJtrVfBDkEd9BWH\n",
            "To: /content/103080/sentence_bert_config.json\n",
            "100% 53.0/53.0 [00:00<00:00, 331kB/s]\n",
            "Downloading...\n",
            "From: https://drive.google.com/uc?id=1BudqNXrBJMzy7tYPxVUezizSpAQs2TMi\n",
            "To: /content/103080/special_tokens_map.json\n",
            "100% 280/280 [00:00<00:00, 1.53MB/s]\n",
            "Downloading...\n",
            "From: https://drive.google.com/uc?id=1nWX9rbnv1V18rJN2tKrWNCI_Ulpp2-ds\n",
            "To: /content/103080/tokenizer_config.json\n",
            "100% 357/357 [00:00<00:00, 2.49MB/s]\n",
            "Downloading...\n",
            "From: https://drive.google.com/uc?id=1Cev_MvvPrZvQ87Z0WcjH96kTVgXY9xkc\n",
            "To: /content/103080/tokenizer.json\n",
            "100% 711k/711k [00:00<00:00, 154MB/s]\n",
            "Downloading...\n",
            "From: https://drive.google.com/uc?id=1bkHtwyjLYLLwSHaSzvstD_dQWIKchF0B\n",
            "To: /content/103080/vocab.txt\n",
            "100% 232k/232k [00:00<00:00, 112MB/s]\n",
            "Download completed\n"
          ]
        }
      ]
    },
    {
      "cell_type": "code",
      "source": [
        "# Clone updated repo\n",
        "!git clone https://github.com/DrishtiShrrrma/nueva.git\n",
        "\n",
        "# Adjust base_dir to new path for prompt-based summaries\n",
        "base_dir = \"/content/nueva/prompt_analysis\"\n",
        "\n"
      ],
      "metadata": {
        "colab": {
          "base_uri": "https://localhost:8080/"
        },
        "id": "msS29R9Ebx0d",
        "outputId": "ce6ab343-e950-45a2-fa2f-c27af39cf489"
      },
      "execution_count": 14,
      "outputs": [
        {
          "output_type": "stream",
          "name": "stdout",
          "text": [
            "fatal: destination path 'nueva' already exists and is not an empty directory.\n"
          ]
        }
      ]
    },
    {
      "cell_type": "code",
      "source": [
        "# ─── CONFIGURATION ──────────────────────────────────────────────\n",
        "backtranslation_dir = \"backtranslations_cache\"\n",
        "os.makedirs(backtranslation_dir, exist_ok=True)\n",
        "\n",
        "\n",
        "# Mapping for summary field name → Display name\n",
        "json_field_to_lang = {\n",
        "    \"chinese\":     \"Chinese\",\n",
        "    \"french\":      \"French\",\n",
        "    \"spanish\":     \"Spanish\",\n",
        "    \"portuguese\":  \"Portuguese\",\n",
        "    \"arabic\":      \"Arabic\",\n",
        "    \"hindi\":       \"Hindi\"\n",
        "}\n",
        "\n",
        "# Mapping for Display name → M2M-100 language code (used for backtranslation)\n",
        "bt_lang_code_map = {\n",
        "    \"Chinese\":     \"zh\",\n",
        "    \"French\":      \"fr\",\n",
        "    \"Spanish\":     \"es\",\n",
        "    \"Portuguese\":  \"pt\",\n",
        "    \"Arabic\":      \"ar\",\n",
        "    \"Hindi\":       \"hi\"\n",
        "}\n",
        "\n",
        "\n",
        "# Load M2M-100 model\n",
        "bt_model_name = \"facebook/m2m100_418M\"\n",
        "bt_model_tag  = bt_model_name.split(\"/\")[-1]\n",
        "bt_tokenizer  = AutoTokenizer.from_pretrained(bt_model_name)\n",
        "bt_model      = AutoModelForSeq2SeqLM.from_pretrained(bt_model_name)\n",
        "device        = \"cuda\" if torch.cuda.is_available() else \"cpu\"\n",
        "bt_model      = bt_model.to(device)\n",
        "\n",
        "\n",
        "# Caches\n",
        "embedding_model     = None\n",
        "bertscore_model     = None\n",
        "bertscore_tokenizer = None\n",
        "side_tokenizer      = None\n",
        "side_model          = None"
      ],
      "metadata": {
        "id": "tK2Tska4XGQZ"
      },
      "execution_count": 15,
      "outputs": []
    },
    {
      "cell_type": "code",
      "source": [
        "# ─── BACK-TRANSLATION FUNCTION ─────────────────────────────────────────────\n",
        "def bt_function(text, src_lang_name):\n",
        "    key = f\"{src_lang_name}_{bt_model_tag}_{hashlib.md5(text.encode()).hexdigest()}\"\n",
        "    cache_file = os.path.join(backtranslation_dir, key + \".txt\")\n",
        "    if os.path.exists(cache_file):\n",
        "        return open(cache_file, 'r', encoding='utf-8').read()\n",
        "\n",
        "    src_lang = bt_lang_code_map.get(src_lang_name)\n",
        "    tgt_lang = \"en\"  # Always translating into English\n",
        "\n",
        "    if src_lang is None:\n",
        "        return text\n",
        "\n",
        "    bt_tokenizer.src_lang = src_lang\n",
        "    inputs = bt_tokenizer(text, return_tensors=\"pt\", padding=True, truncation=True, max_length=512)\n",
        "    inputs = {k: v.to(device) for k, v in inputs.items()}\n",
        "\n",
        "    output_ids = bt_model.generate(**inputs, forced_bos_token_id=bt_tokenizer.get_lang_id(tgt_lang))\n",
        "    output_text = bt_tokenizer.decode(output_ids[0], skip_special_tokens=True)\n",
        "\n",
        "    with open(cache_file, 'w', encoding='utf-8') as f:\n",
        "        f.write(output_text)\n",
        "\n",
        "    return output_text\n",
        "\n",
        "\n",
        "# ─── METRIC FUNCTIONS ──────────────────────────────────────────────────────\n",
        "def compute_bertscore(refs, hyps):\n",
        "    P, R, F1 = bert_score(\n",
        "        hyps,\n",
        "        refs,\n",
        "        model_type=\"xlm-roberta-large\",\n",
        "        lang=\"en\",\n",
        "        rescale_with_baseline=False\n",
        "    )\n",
        "    return {\n",
        "        \"precision\": round(P.mean().item(), 4),\n",
        "        \"recall\":    round(R.mean().item(), 4),\n",
        "        \"f1\":        round(F1.mean().item(), 4)\n",
        "    }"
      ],
      "metadata": {
        "trusted": true,
        "execution": {
          "iopub.status.busy": "2025-05-17T15:51:55.056893Z",
          "iopub.execute_input": "2025-05-17T15:51:55.057441Z",
          "iopub.status.idle": "2025-05-17T15:52:05.406210Z",
          "shell.execute_reply.started": "2025-05-17T15:51:55.057417Z",
          "shell.execute_reply": "2025-05-17T15:52:05.405181Z"
        },
        "id": "48Z-T6bgzZYp"
      },
      "outputs": [],
      "execution_count": 16
    },
    {
      "cell_type": "code",
      "source": [
        "# ─── MEAN POOLING (for SIDE) ───────────────────────────────────────────────\n",
        "def mean_pooling(model_output, attention_mask):\n",
        "    token_embeddings = model_output[0]\n",
        "    mask = attention_mask.unsqueeze(-1).expand(token_embeddings.size()).float()\n",
        "    return torch.sum(token_embeddings * mask, 1) / torch.clamp(mask.sum(1), min=1e-9)\n",
        "\n",
        "\n",
        "def compute_side_score(codes, hyps):\n",
        "    global side_tokenizer, side_model\n",
        "    if side_model is None:\n",
        "        checkpoint = \"/content/103080\"\n",
        "        side_tokenizer = AutoTokenizer.from_pretrained(checkpoint)\n",
        "        side_model     = AutoModel.from_pretrained(checkpoint)\n",
        "        if torch.cuda.is_available(): side_model = side_model.cuda()\n",
        "        side_model.eval()\n",
        "    scores = []\n",
        "    for code, summ in zip(codes, hyps):\n",
        "        enc = side_tokenizer([code, summ], padding=True, truncation=True, return_tensors=\"pt\")\n",
        "        if torch.cuda.is_available(): enc = {k:v.cuda() for k,v in enc.items()}\n",
        "        with torch.no_grad(): out = side_model(**enc)\n",
        "        pooled = mean_pooling(out, enc['attention_mask'])\n",
        "        normed = torch.nn.functional.normalize(pooled, p=2, dim=1)\n",
        "        scores.append(util.pytorch_cos_sim(normed[0], normed[1]).item())\n",
        "    return round(float(np.mean(scores)),4)\n",
        "\n",
        "def compute_meteor_score(refs, hyps):\n",
        "    sc = []\n",
        "    for r,h in zip(refs, hyps):\n",
        "        rt = word_tokenize(r.lower()); ht = word_tokenize(h.lower())\n",
        "        sc.append(meteor_score([rt], ht))\n",
        "    return round(float(np.mean(sc)),4)\n",
        "\n",
        "def compute_chrf_score(refs, hyps):\n",
        "  refs = [r.lower() for r in refs]\n",
        "  hyps = [h.lower() for h in hyps]\n",
        "\n",
        "  res = sacrebleu.corpus_chrf(hyps, [refs], word_order=2)\n",
        "  return round(res.score / 100, 4)\n",
        "\n",
        "## ----BLEU METRIC-----------\n",
        "def compute_bleu_sacre(refs, hyps, lang_name):\n",
        "    lang_name = lang_name.lower()\n",
        "\n",
        "    # Define tokenizer per language\n",
        "    tokenizer_map = {\n",
        "        \"chinese\": \"zh\",\n",
        "        \"french\": \"13a\",\n",
        "        \"portuguese\": \"13a\",\n",
        "        \"arabic\": \"intl\",\n",
        "        \"hindi\": \"intl\",\n",
        "        \"spanish\": \"13a\"\n",
        "    }\n",
        "\n",
        "    # Default tokenizer if language not found\n",
        "    tokenizer = tokenizer_map.get(lang_name, \"13a\")\n",
        "\n",
        "    # Compute BLEU-4\n",
        "    score = sacrebleu.corpus_bleu(hyps, [refs], tokenize=tokenizer)\n",
        "    return round(score.score / 100, 4) # Normalize to 0–1 like nltk\n",
        "\n",
        "\n",
        "\n",
        "def tokenize(text, lang):\n",
        "    lang = lang.lower()\n",
        "    if lang == \"chinese\":\n",
        "        return list(text.strip())\n",
        "    elif lang == \"arabic\":\n",
        "        return simple_word_tokenize(text)\n",
        "    elif lang == \"hindi\":\n",
        "        return trivial_tokenize(text, lang='hi')\n",
        "    elif lang in [\"french\", \"portuguese\"]:\n",
        "        return word_tokenize(text, language=lang)\n",
        "    else:\n",
        "        return text.strip().split()\n",
        "\n",
        "\n",
        "def compute_bleu_nltk(refs_tokenized, hyps_tokenized):\n",
        "    smoothie = SmoothingFunction().method1\n",
        "    score = corpus_bleu(\n",
        "        refs_tokenized,\n",
        "        hyps_tokenized,\n",
        "        weights=(0.25, 0.25, 0.25, 0.25),\n",
        "        smoothing_function=smoothie\n",
        "    )\n",
        "    return round(score, 4)\n",
        "\n",
        "## ----COMET METRIC-----------\n",
        "\n",
        "comet = evaluate_load(\"comet\", config_name=\"Unbabel/wmt22-comet-da\")\n",
        "\n",
        "def compute_comet_score(sources, references, hypotheses, batch_size=8, gpus=0):\n",
        "    result = comet.compute(\n",
        "        sources=sources,\n",
        "        predictions=hypotheses,\n",
        "        references=references,\n",
        "    )\n",
        "    per_example = result.get(\"scores\", [])\n",
        "    mean_score = float(np.mean(per_example)) if per_example else 0.0\n",
        "    return round(mean_score, 4), per_example\n",
        "\n",
        "\n",
        "# COMPUTE ALL METRICS\n",
        "def compute_all_metrics(codes, refs, hyps, lang_name, code_lang):\n",
        "    print(f\"  Computing backtranslation-based metrics for {lang_name}...\")\n",
        "    bt = [bt_function(h, lang_name) for h in hyps]\n",
        "    smoothie = SmoothingFunction().method4\n",
        "    refs_tokenized = [[tokenize(r, lang_name)] for r in refs]\n",
        "    hyps_tokenized = [tokenize(b, lang_name) for b in bt]\n",
        "\n",
        "    # Compute BLEU using tokenized inputs\n",
        "    bleu_nltk = compute_bleu_nltk(refs_tokenized, hyps_tokenized)\n",
        "\n",
        "    bleu_sacre = compute_bleu_sacre(refs, bt, lang_name)\n",
        "    bleu_diff = round(abs(bleu_nltk - bleu_sacre), 4)\n",
        "\n",
        "    scorer = rouge_scorer.RougeScorer(['rougeL'], use_stemmer=True)\n",
        "    rl = [scorer.score(r, b)['rougeL'].fmeasure for r, b in zip(refs, bt)]\n",
        "    comet_mean, comet_per_example = compute_comet_score(\n",
        "        sources=hyps,\n",
        "        references=refs,\n",
        "        hypotheses=bt\n",
        "    )\n",
        "\n",
        "    return {\n",
        "        \"bleu4_nltk\": round(bleu_nltk, 4),\n",
        "        \"bleu4_sacrebleu\": bleu_sacre,\n",
        "        \"bleu4_diff\": bleu_diff,\n",
        "        \"rougeL\": round(np.mean(rl), 4),\n",
        "        \"meteor\": compute_meteor_score(refs, bt),\n",
        "        \"chrf++\": compute_chrf_score(refs, bt),\n",
        "        \"side_bt\": compute_side_score(codes, bt),\n",
        "        \"comet_mean\": comet_mean,\n",
        "        \"comet_per_example\": comet_per_example\n",
        "    }\n",
        "\n"
      ],
      "metadata": {
        "trusted": true,
        "execution": {
          "iopub.status.busy": "2025-05-17T16:01:07.499915Z",
          "iopub.execute_input": "2025-05-17T16:01:07.500259Z"
        },
        "id": "FLA_b7_XzZYq",
        "outputId": "da4e32b7-10ea-4773-d7f1-dbe5ea5cf0ed",
        "colab": {
          "base_uri": "https://localhost:8080/",
          "height": 86,
          "referenced_widgets": [
            "d3e545426a3c41bcaf81336bd8349253",
            "098b6796c7c74c26a7b7a5f5a4d59586",
            "587ece11f755420a9aef2b0f49d13346",
            "f647198a61de4ff7b9306d254e597ea2",
            "58288ccb3b184c80b0e6b45c8402f92e",
            "9147cd575ccf4571af440d52c6f3f6eb",
            "f7f8ee0ea4fa4cd183b14b06e10f6637",
            "e515808f329f499eab953f79b4d1ae07",
            "8bface83b10c43d184ec62f48814e1db",
            "27533c870571405581b81fcff8a263c9",
            "8bcaa70db9f043828a8ac2eeb00a847c"
          ]
        }
      },
      "outputs": [
        {
          "output_type": "display_data",
          "data": {
            "text/plain": [
              "Fetching 5 files:   0%|          | 0/5 [00:00<?, ?it/s]"
            ],
            "application/vnd.jupyter.widget-view+json": {
              "version_major": 2,
              "version_minor": 0,
              "model_id": "d3e545426a3c41bcaf81336bd8349253"
            }
          },
          "metadata": {}
        },
        {
          "output_type": "stream",
          "name": "stderr",
          "text": [
            "INFO:pytorch_lightning.utilities.migration.utils:Lightning automatically upgraded your loaded checkpoint from v1.8.3.post1 to v2.5.1.post0. To apply the upgrade to your files permanently, run `python -m pytorch_lightning.utilities.upgrade_checkpoint ../root/.cache/huggingface/hub/models--Unbabel--wmt22-comet-da/snapshots/2760a223ac957f30acfb18c8aa649b01cf1d75f2/checkpoints/model.ckpt`\n"
          ]
        }
      ],
      "execution_count": 17
    },
    {
      "metadata": {
        "colab": {
          "base_uri": "https://localhost:8080/"
        },
        "id": "km-X3KQa3nY9",
        "outputId": "2ff748d9-e1fc-458b-e806-edceef696922"
      },
      "cell_type": "code",
      "source": [
        "# ─── MAIN EVALUATION ─────────────────────────────────────\n",
        "def run_evaluation():\n",
        "    all_results = []\n",
        "    base_dir = \"/content/nueva/prompt_analysis\"\n",
        "    model_folders = [\"codegemma\", \"gemma-2-9b-it\", \"qwen2.5coder\", \"deepseekcoder\"]\n",
        "    prompt_subdirs = [\"prompt0\"]\n",
        "\n",
        "    for model_folder in model_folders:\n",
        "        for prompt in prompt_subdirs:\n",
        "            prompt_path = os.path.join(base_dir, model_folder, prompt)\n",
        "            if not os.path.isdir(prompt_path):\n",
        "                continue\n",
        "\n",
        "            for fname in os.listdir(prompt_path):\n",
        "                if not fname.endswith(\".json\") or not fname.startswith(\"all_languages_prompt\"):\n",
        "                    continue\n",
        "\n",
        "                summary_path = os.path.join(prompt_path, fname)\n",
        "                print(f\"\\nProcessing file: {summary_path}\")\n",
        "\n",
        "                with open(summary_path, encoding='utf-8') as f:\n",
        "                    data = json.load(f)\n",
        "\n",
        "                if not data:\n",
        "                    print(\"  Skipped: empty file\")\n",
        "                    continue\n",
        "\n",
        "                codes = [d.get(\"code\", \"\") for d in data]\n",
        "                refs = [d.get(\"summary_english\", d.get(\"docstring\", \"\")) for d in data]\n",
        "                code_lang = data[0].get(\"language\", \"unknown\")\n",
        "                model_name = data[0].get(\"model_name\", model_folder)\n",
        "                prompt_used = data[0].get(\"prompt_used\", prompt)\n",
        "\n",
        "                for field, lang_name in json_field_to_lang.items():\n",
        "                    hyp_key = f\"summary_{field}\"\n",
        "                    if hyp_key not in data[0]:\n",
        "                        print(f\"  Skipping {lang_name} — {hyp_key} not found.\")\n",
        "                        continue\n",
        "\n",
        "                    hyps = [d.get(hyp_key, \"\") for d in data]\n",
        "                    if not any(hyps):\n",
        "                        print(f\"  Skipping {lang_name} — all summaries empty.\")\n",
        "                        continue\n",
        "\n",
        "                    print(f\"  → Evaluating summaries in {lang_name}...\")\n",
        "                    bert = compute_bertscore(refs, hyps)\n",
        "                    side_original = compute_side_score(codes, hyps)\n",
        "                    metrics = compute_all_metrics(codes, refs, hyps, lang_name, code_lang)\n",
        "                    side_drop = round(side_original - metrics[\"side_bt\"], 4)\n",
        "\n",
        "                    for i, entry in enumerate(data):\n",
        "                        code = entry.get(\"code\", \"\")\n",
        "                        sample_id = entry.get(\"id\", f\"{code_lang}_{i}\")\n",
        "                        full_func = entry.get(\"whole_func_string\", code)\n",
        "                        word_len = len(full_func.strip().split())\n",
        "\n",
        "                        generated_summary = entry.get(hyp_key, \"\")\n",
        "                        backtranslated_summary = bt_function(generated_summary, lang_name)\n",
        "\n",
        "                        result = {\n",
        "                            \"sample_id\": sample_id,\n",
        "                            \"model_folder_name\": model_folder,\n",
        "                            \"model_name\": model_name,\n",
        "                            \"programming_language\": code_lang,\n",
        "                            \"language\": lang_name,\n",
        "                            \"prompt_used\": prompt_used,\n",
        "                            \"bt_model\": bt_model_tag,\n",
        "                            \"word_len\": word_len,\n",
        "                            \"length_bucket\": entry.get(\"length_bucket\", \"unknown\"),\n",
        "                            \"reference_summary\": entry.get(\"summary_english\", entry.get(\"docstring\", \"\")),\n",
        "                            \"generated_summary\": generated_summary,\n",
        "                            \"backtranslated_summary\": backtranslated_summary,\n",
        "                            \"bertscore_f1\": bert[\"f1\"],\n",
        "                            \"bertscore_precision\": bert[\"precision\"],\n",
        "                            \"bertscore_recall\": bert[\"recall\"],\n",
        "                            \"side_original\": side_original,\n",
        "                            \"side_bt\": metrics[\"side_bt\"],\n",
        "                            \"side_drop\": side_drop,\n",
        "                            \"bleu4_nltk\": metrics[\"bleu4_nltk\"],\n",
        "                            \"bleu4_sacrebleu\": metrics[\"bleu4_sacrebleu\"],\n",
        "                            \"bleu4_diff\": metrics[\"bleu4_diff\"],\n",
        "                            \"rougeL\": metrics[\"rougeL\"],\n",
        "                            \"meteor\": metrics[\"meteor\"],\n",
        "                            \"chrf++\": metrics[\"chrf++\"],\n",
        "                            \"comet_mean\": metrics[\"comet_mean\"],\n",
        "                            \"comet_example_score\": metrics[\"comet_per_example\"][i] if i < len(metrics[\"comet_per_example\"]) else None\n",
        "                        }\n",
        "\n",
        "                        all_results.append(result)\n",
        "\n",
        "    # Save results\n",
        "    os.makedirs(backtranslation_dir, exist_ok=True)\n",
        "    json_out = os.path.join(backtranslation_dir, f\"all_scores_bt_{bt_model_tag}.json\")\n",
        "    csv_out = os.path.join(backtranslation_dir, f\"all_scores_bt_{bt_model_tag}.csv\")\n",
        "\n",
        "    with open(json_out, \"w\", encoding=\"utf-8\") as f:\n",
        "        json.dump(all_results, f, indent=2)\n",
        "\n",
        "    pd.DataFrame(all_results).to_csv(csv_out, index=False)\n",
        "\n",
        "    print(f\"\\n✅ Saved results to:\\n  JSON: {json_out}\\n  CSV:  {csv_out}\")\n",
        "\n",
        "\n",
        "run_evaluation()\n"
      ],
      "outputs": [
        {
          "metadata": {
            "tags": null
          },
          "name": "stdout",
          "output_type": "stream",
          "text": [
            "\n",
            "Processing file: /content/nueva/prompt_analysis/codegemma/prompt0/all_languages_prompt0_combined_codegemma-7b-it.json\n",
            "  → Evaluating summaries in Chinese...\n",
            "  Computing backtranslation-based metrics for Chinese...\n"
          ]
        },
        {
          "metadata": {
            "tags": null
          },
          "name": "stderr",
          "output_type": "stream",
          "text": [
            "INFO:pytorch_lightning.utilities.rank_zero:Using default `ModelCheckpoint`. Consider installing `litmodels` package to enable `LitModelCheckpoint` for automatic upload to the Lightning model registry.\n",
            "INFO:pytorch_lightning.utilities.rank_zero:GPU available: True (cuda), used: True\n",
            "INFO:pytorch_lightning.utilities.rank_zero:TPU available: False, using: 0 TPU cores\n",
            "INFO:pytorch_lightning.utilities.rank_zero:HPU available: False, using: 0 HPUs\n",
            "INFO:pytorch_lightning.utilities.rank_zero:You are using a CUDA device ('NVIDIA A100-SXM4-40GB') that has Tensor Cores. To properly utilize them, you should set `torch.set_float32_matmul_precision('medium' | 'high')` which will trade-off precision for performance. For more details, read https://pytorch.org/docs/stable/generated/torch.set_float32_matmul_precision.html#torch.set_float32_matmul_precision\n",
            "INFO:pytorch_lightning.accelerators.cuda:LOCAL_RANK: 0 - CUDA_VISIBLE_DEVICES: [0]\n"
          ]
        },
        {
          "metadata": {
            "tags": null
          },
          "name": "stdout",
          "output_type": "stream",
          "text": [
            "  → Evaluating summaries in French...\n",
            "  Computing backtranslation-based metrics for French...\n"
          ]
        },
        {
          "metadata": {
            "tags": null
          },
          "name": "stderr",
          "output_type": "stream",
          "text": [
            "INFO:pytorch_lightning.utilities.rank_zero:Using default `ModelCheckpoint`. Consider installing `litmodels` package to enable `LitModelCheckpoint` for automatic upload to the Lightning model registry.\n",
            "INFO:pytorch_lightning.utilities.rank_zero:GPU available: True (cuda), used: True\n",
            "INFO:pytorch_lightning.utilities.rank_zero:TPU available: False, using: 0 TPU cores\n",
            "INFO:pytorch_lightning.utilities.rank_zero:HPU available: False, using: 0 HPUs\n",
            "INFO:pytorch_lightning.accelerators.cuda:LOCAL_RANK: 0 - CUDA_VISIBLE_DEVICES: [0]\n"
          ]
        },
        {
          "metadata": {
            "tags": null
          },
          "name": "stdout",
          "output_type": "stream",
          "text": [
            "  → Evaluating summaries in Spanish...\n",
            "  Computing backtranslation-based metrics for Spanish...\n"
          ]
        },
        {
          "metadata": {
            "tags": null
          },
          "name": "stderr",
          "output_type": "stream",
          "text": [
            "INFO:pytorch_lightning.utilities.rank_zero:Using default `ModelCheckpoint`. Consider installing `litmodels` package to enable `LitModelCheckpoint` for automatic upload to the Lightning model registry.\n",
            "INFO:pytorch_lightning.utilities.rank_zero:GPU available: True (cuda), used: True\n",
            "INFO:pytorch_lightning.utilities.rank_zero:TPU available: False, using: 0 TPU cores\n",
            "INFO:pytorch_lightning.utilities.rank_zero:HPU available: False, using: 0 HPUs\n",
            "INFO:pytorch_lightning.accelerators.cuda:LOCAL_RANK: 0 - CUDA_VISIBLE_DEVICES: [0]\n"
          ]
        },
        {
          "metadata": {
            "tags": null
          },
          "name": "stdout",
          "output_type": "stream",
          "text": [
            "  → Evaluating summaries in Portuguese...\n",
            "  Computing backtranslation-based metrics for Portuguese...\n"
          ]
        },
        {
          "metadata": {
            "tags": null
          },
          "name": "stderr",
          "output_type": "stream",
          "text": [
            "INFO:pytorch_lightning.utilities.rank_zero:Using default `ModelCheckpoint`. Consider installing `litmodels` package to enable `LitModelCheckpoint` for automatic upload to the Lightning model registry.\n",
            "INFO:pytorch_lightning.utilities.rank_zero:GPU available: True (cuda), used: True\n",
            "INFO:pytorch_lightning.utilities.rank_zero:TPU available: False, using: 0 TPU cores\n",
            "INFO:pytorch_lightning.utilities.rank_zero:HPU available: False, using: 0 HPUs\n",
            "INFO:pytorch_lightning.accelerators.cuda:LOCAL_RANK: 0 - CUDA_VISIBLE_DEVICES: [0]\n"
          ]
        },
        {
          "metadata": {
            "tags": null
          },
          "name": "stdout",
          "output_type": "stream",
          "text": [
            "  → Evaluating summaries in Arabic...\n",
            "  Computing backtranslation-based metrics for Arabic...\n"
          ]
        },
        {
          "metadata": {
            "tags": null
          },
          "name": "stderr",
          "output_type": "stream",
          "text": [
            "INFO:pytorch_lightning.utilities.rank_zero:Using default `ModelCheckpoint`. Consider installing `litmodels` package to enable `LitModelCheckpoint` for automatic upload to the Lightning model registry.\n",
            "INFO:pytorch_lightning.utilities.rank_zero:GPU available: True (cuda), used: True\n",
            "INFO:pytorch_lightning.utilities.rank_zero:TPU available: False, using: 0 TPU cores\n",
            "INFO:pytorch_lightning.utilities.rank_zero:HPU available: False, using: 0 HPUs\n",
            "INFO:pytorch_lightning.accelerators.cuda:LOCAL_RANK: 0 - CUDA_VISIBLE_DEVICES: [0]\n"
          ]
        },
        {
          "metadata": {
            "tags": null
          },
          "name": "stdout",
          "output_type": "stream",
          "text": [
            "  → Evaluating summaries in Hindi...\n",
            "  Computing backtranslation-based metrics for Hindi...\n"
          ]
        },
        {
          "metadata": {
            "tags": null
          },
          "name": "stderr",
          "output_type": "stream",
          "text": [
            "INFO:pytorch_lightning.utilities.rank_zero:Using default `ModelCheckpoint`. Consider installing `litmodels` package to enable `LitModelCheckpoint` for automatic upload to the Lightning model registry.\n",
            "INFO:pytorch_lightning.utilities.rank_zero:GPU available: True (cuda), used: True\n",
            "INFO:pytorch_lightning.utilities.rank_zero:TPU available: False, using: 0 TPU cores\n",
            "INFO:pytorch_lightning.utilities.rank_zero:HPU available: False, using: 0 HPUs\n",
            "INFO:pytorch_lightning.accelerators.cuda:LOCAL_RANK: 0 - CUDA_VISIBLE_DEVICES: [0]\n"
          ]
        },
        {
          "metadata": {
            "tags": null
          },
          "name": "stdout",
          "output_type": "stream",
          "text": [
            "\n",
            "Processing file: /content/nueva/prompt_analysis/gemma-2-9b-it/prompt0/all_languages_prompt0_combined_gemma-2-9b-it.json\n",
            "  → Evaluating summaries in Chinese...\n",
            "  Computing backtranslation-based metrics for Chinese...\n"
          ]
        },
        {
          "metadata": {
            "tags": null
          },
          "name": "stderr",
          "output_type": "stream",
          "text": [
            "INFO:pytorch_lightning.utilities.rank_zero:Using default `ModelCheckpoint`. Consider installing `litmodels` package to enable `LitModelCheckpoint` for automatic upload to the Lightning model registry.\n",
            "INFO:pytorch_lightning.utilities.rank_zero:GPU available: True (cuda), used: True\n",
            "INFO:pytorch_lightning.utilities.rank_zero:TPU available: False, using: 0 TPU cores\n",
            "INFO:pytorch_lightning.utilities.rank_zero:HPU available: False, using: 0 HPUs\n",
            "INFO:pytorch_lightning.accelerators.cuda:LOCAL_RANK: 0 - CUDA_VISIBLE_DEVICES: [0]\n"
          ]
        },
        {
          "metadata": {
            "tags": null
          },
          "name": "stdout",
          "output_type": "stream",
          "text": [
            "  → Evaluating summaries in French...\n",
            "  Computing backtranslation-based metrics for French...\n"
          ]
        },
        {
          "metadata": {
            "tags": null
          },
          "name": "stderr",
          "output_type": "stream",
          "text": [
            "INFO:pytorch_lightning.utilities.rank_zero:Using default `ModelCheckpoint`. Consider installing `litmodels` package to enable `LitModelCheckpoint` for automatic upload to the Lightning model registry.\n",
            "INFO:pytorch_lightning.utilities.rank_zero:GPU available: True (cuda), used: True\n",
            "INFO:pytorch_lightning.utilities.rank_zero:TPU available: False, using: 0 TPU cores\n",
            "INFO:pytorch_lightning.utilities.rank_zero:HPU available: False, using: 0 HPUs\n",
            "INFO:pytorch_lightning.accelerators.cuda:LOCAL_RANK: 0 - CUDA_VISIBLE_DEVICES: [0]\n"
          ]
        },
        {
          "metadata": {
            "tags": null
          },
          "name": "stdout",
          "output_type": "stream",
          "text": [
            "  → Evaluating summaries in Spanish...\n",
            "  Computing backtranslation-based metrics for Spanish...\n"
          ]
        },
        {
          "metadata": {
            "tags": null
          },
          "name": "stderr",
          "output_type": "stream",
          "text": [
            "INFO:pytorch_lightning.utilities.rank_zero:Using default `ModelCheckpoint`. Consider installing `litmodels` package to enable `LitModelCheckpoint` for automatic upload to the Lightning model registry.\n",
            "INFO:pytorch_lightning.utilities.rank_zero:GPU available: True (cuda), used: True\n",
            "INFO:pytorch_lightning.utilities.rank_zero:TPU available: False, using: 0 TPU cores\n",
            "INFO:pytorch_lightning.utilities.rank_zero:HPU available: False, using: 0 HPUs\n",
            "INFO:pytorch_lightning.accelerators.cuda:LOCAL_RANK: 0 - CUDA_VISIBLE_DEVICES: [0]\n"
          ]
        },
        {
          "metadata": {
            "tags": null
          },
          "name": "stdout",
          "output_type": "stream",
          "text": [
            "  → Evaluating summaries in Portuguese...\n",
            "  Computing backtranslation-based metrics for Portuguese...\n"
          ]
        },
        {
          "metadata": {
            "tags": null
          },
          "name": "stderr",
          "output_type": "stream",
          "text": [
            "INFO:pytorch_lightning.utilities.rank_zero:Using default `ModelCheckpoint`. Consider installing `litmodels` package to enable `LitModelCheckpoint` for automatic upload to the Lightning model registry.\n",
            "INFO:pytorch_lightning.utilities.rank_zero:GPU available: True (cuda), used: True\n",
            "INFO:pytorch_lightning.utilities.rank_zero:TPU available: False, using: 0 TPU cores\n",
            "INFO:pytorch_lightning.utilities.rank_zero:HPU available: False, using: 0 HPUs\n",
            "INFO:pytorch_lightning.accelerators.cuda:LOCAL_RANK: 0 - CUDA_VISIBLE_DEVICES: [0]\n"
          ]
        },
        {
          "metadata": {
            "tags": null
          },
          "name": "stdout",
          "output_type": "stream",
          "text": [
            "  → Evaluating summaries in Arabic...\n",
            "  Computing backtranslation-based metrics for Arabic...\n"
          ]
        },
        {
          "metadata": {
            "tags": null
          },
          "name": "stderr",
          "output_type": "stream",
          "text": [
            "INFO:pytorch_lightning.utilities.rank_zero:Using default `ModelCheckpoint`. Consider installing `litmodels` package to enable `LitModelCheckpoint` for automatic upload to the Lightning model registry.\n",
            "INFO:pytorch_lightning.utilities.rank_zero:GPU available: True (cuda), used: True\n",
            "INFO:pytorch_lightning.utilities.rank_zero:TPU available: False, using: 0 TPU cores\n",
            "INFO:pytorch_lightning.utilities.rank_zero:HPU available: False, using: 0 HPUs\n",
            "INFO:pytorch_lightning.accelerators.cuda:LOCAL_RANK: 0 - CUDA_VISIBLE_DEVICES: [0]\n"
          ]
        },
        {
          "metadata": {
            "tags": null
          },
          "name": "stdout",
          "output_type": "stream",
          "text": [
            "  → Evaluating summaries in Hindi...\n",
            "  Computing backtranslation-based metrics for Hindi...\n"
          ]
        },
        {
          "metadata": {
            "tags": null
          },
          "name": "stderr",
          "output_type": "stream",
          "text": [
            "INFO:pytorch_lightning.utilities.rank_zero:Using default `ModelCheckpoint`. Consider installing `litmodels` package to enable `LitModelCheckpoint` for automatic upload to the Lightning model registry.\n",
            "INFO:pytorch_lightning.utilities.rank_zero:GPU available: True (cuda), used: True\n",
            "INFO:pytorch_lightning.utilities.rank_zero:TPU available: False, using: 0 TPU cores\n",
            "INFO:pytorch_lightning.utilities.rank_zero:HPU available: False, using: 0 HPUs\n",
            "INFO:pytorch_lightning.accelerators.cuda:LOCAL_RANK: 0 - CUDA_VISIBLE_DEVICES: [0]\n"
          ]
        },
        {
          "metadata": {
            "tags": null
          },
          "name": "stdout",
          "output_type": "stream",
          "text": [
            "\n",
            "Processing file: /content/nueva/prompt_analysis/qwen2.5coder/prompt0/all_languages_prompt0_combined_Qwen2.5-Coder-7B-Instruct.json\n",
            "  → Evaluating summaries in Chinese...\n",
            "  Computing backtranslation-based metrics for Chinese...\n"
          ]
        }
      ],
      "execution_count": null
    },
    {
      "cell_type": "code",
      "source": [],
      "metadata": {
        "id": "18C0EjtvqxKx"
      },
      "execution_count": 18,
      "outputs": []
    }
  ]
}