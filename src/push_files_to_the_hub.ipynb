{
  "nbformat": 4,
  "nbformat_minor": 0,
  "metadata": {
    "colab": {
      "provenance": []
    },
    "kernelspec": {
      "name": "python3",
      "display_name": "Python 3"
    },
    "language_info": {
      "name": "python"
    }
  },
  "cells": [
    {
      "cell_type": "code",
      "execution_count": 1,
      "metadata": {
        "colab": {
          "base_uri": "https://localhost:8080/"
        },
        "id": "M6Q6z44MR8f6",
        "outputId": "90c609b4-8021-48df-ba9d-91e426f41fdd"
      },
      "outputs": [
        {
          "output_type": "stream",
          "name": "stdout",
          "text": [
            "Cloning into 'CodeClarity'...\n",
            "remote: Enumerating objects: 234, done.\u001b[K\n",
            "remote: Counting objects: 100% (234/234), done.\u001b[K\n",
            "remote: Compressing objects: 100% (182/182), done.\u001b[K\n",
            "remote: Total 234 (delta 99), reused 115 (delta 41), pack-reused 0 (from 0)\u001b[K\n",
            "Receiving objects: 100% (234/234), 21.29 MiB | 10.74 MiB/s, done.\n",
            "Resolving deltas: 100% (99/99), done.\n",
            "/content/CodeClarity\n"
          ]
        }
      ],
      "source": [
        "!git clone https://github.com/MadhuNimmo/CodeClarity.git\n",
        "%cd CodeClarity"
      ]
    },
    {
      "cell_type": "code",
      "source": [
        "!git checkout -b prompt-experiments"
      ],
      "metadata": {
        "colab": {
          "base_uri": "https://localhost:8080/"
        },
        "id": "cbGPygHLS9Ad",
        "outputId": "85d09900-118f-4c3e-c76a-b0224bfe538d"
      },
      "execution_count": 2,
      "outputs": [
        {
          "output_type": "stream",
          "name": "stdout",
          "text": [
            "Switched to a new branch 'prompt-experiments'\n"
          ]
        }
      ]
    },
    {
      "cell_type": "code",
      "source": [
        "!git clone https://github.com/DrishtiShrrrma/nueva.git"
      ],
      "metadata": {
        "colab": {
          "base_uri": "https://localhost:8080/"
        },
        "id": "NQY2sfauTeKn",
        "outputId": "e4d3cf2b-5f94-4c24-b808-b30c2bc3fbec"
      },
      "execution_count": 3,
      "outputs": [
        {
          "output_type": "stream",
          "name": "stdout",
          "text": [
            "Cloning into 'nueva'...\n",
            "remote: Enumerating objects: 524, done.\u001b[K\n",
            "remote: Counting objects: 100% (110/110), done.\u001b[K\n",
            "remote: Compressing objects: 100% (81/81), done.\u001b[K\n",
            "remote: Total 524 (delta 67), reused 29 (delta 29), pack-reused 414 (from 2)\u001b[K\n",
            "Receiving objects: 100% (524/524), 2.53 MiB | 7.93 MiB/s, done.\n",
            "Resolving deltas: 100% (209/209), done.\n"
          ]
        }
      ]
    },
    {
      "cell_type": "code",
      "source": [
        "# CodeGemma\n",
        "!mkdir -p prompt_analysis/codegemma/prompt0\n",
        "!cp nueva/prompt_analysis/codegemma/prompt0/all_languages_prompt0_combined_codegemma-7b-it.json prompt_analysis/codegemma/prompt0/\n",
        "\n",
        "!mkdir -p prompt_analysis/codegemma/prompt1\n",
        "!cp nueva/prompt_analysis/codegemma/prompt1/all_languages_prompt1_combined_codegemma-7b-it.json prompt_analysis/codegemma/prompt1/\n",
        "\n",
        "!mkdir -p prompt_analysis/codegemma/prompt2\n",
        "!cp nueva/prompt_analysis/codegemma/prompt2/all_languages_prompt2_combined_codegemma-7b-it.json prompt_analysis/codegemma/prompt2/\n",
        "\n",
        "!mkdir -p prompt_analysis/codegemma/prompt3\n",
        "!cp nueva/prompt_analysis/codegemma/prompt3/all_languages_prompt3_combined_codegemma-7b-it.json prompt_analysis/codegemma/prompt3/\n",
        "\n",
        "# DeepSeekCoder\n",
        "!mkdir -p prompt_analysis/deepseekcoder/prompt0\n",
        "!cp nueva/prompt_analysis/deepseekcoder/prompt0/all_languages_prompt0_combined_deepseek-coder-6.7b-instruct.json prompt_analysis/deepseekcoder/prompt0/\n",
        "\n",
        "!mkdir -p prompt_analysis/deepseekcoder/prompt1\n",
        "!cp nueva/prompt_analysis/deepseekcoder/prompt1/all_languages_prompt1_combined_deepseek-coder-6.7b-instruct.json prompt_analysis/deepseekcoder/prompt1/\n",
        "\n",
        "!mkdir -p prompt_analysis/deepseekcoder/prompt2\n",
        "!cp nueva/prompt_analysis/deepseekcoder/prompt2/all_languages_prompt2_combined_deepseek-coder-6.7b-instruct.json prompt_analysis/deepseekcoder/prompt2/\n",
        "\n",
        "!mkdir -p prompt_analysis/deepseekcoder/prompt3\n",
        "!cp nueva/prompt_analysis/deepseekcoder/prompt3/all_languages_prompt3_combined_deepseek-coder-6.7b-instruct.json prompt_analysis/deepseekcoder/prompt3/\n",
        "\n",
        "# Gemma-2-9B-IT\n",
        "!mkdir -p prompt_analysis/gemma-2-9b-it/prompt0\n",
        "!cp nueva/prompt_analysis/gemma-2-9b-it/prompt0/all_languages_prompt0_combined_gemma-2-9b-it.json prompt_analysis/gemma-2-9b-it/prompt0/\n",
        "\n",
        "!mkdir -p prompt_analysis/gemma-2-9b-it/prompt1\n",
        "!cp nueva/prompt_analysis/gemma-2-9b-it/prompt1/all_languages_prompt1_combined_gemma-2-9b-it.json prompt_analysis/gemma-2-9b-it/prompt1/\n",
        "\n",
        "!mkdir -p prompt_analysis/gemma-2-9b-it/prompt2\n",
        "!cp nueva/prompt_analysis/gemma-2-9b-it/prompt2/all_languages_prompt2_combined_gemma-2-9b-it.json prompt_analysis/gemma-2-9b-it/prompt2/\n",
        "\n",
        "!mkdir -p prompt_analysis/gemma-2-9b-it/prompt3\n",
        "!cp nueva/prompt_analysis/gemma-2-9b-it/prompt3/all_languages_prompt3_combined_gemma-2-9b-it.json prompt_analysis/gemma-2-9b-it/prompt3/\n",
        "\n",
        "# Qwen2.5-Coder\n",
        "!mkdir -p prompt_analysis/qwen2.5coder/prompt0\n",
        "!cp nueva/prompt_analysis/qwen2.5coder/prompt0/all_languages_prompt0_combined_Qwen2.5-Coder-7B-Instruct.json prompt_analysis/qwen2.5coder/prompt0/\n",
        "\n",
        "!mkdir -p prompt_analysis/qwen2.5coder/prompt1\n",
        "!cp nueva/prompt_analysis/qwen2.5coder/prompt1/all_languages_prompt1_combined_Qwen2.5-Coder-7B-Instruct.json prompt_analysis/qwen2.5coder/prompt1/\n",
        "\n",
        "!mkdir -p prompt_analysis/qwen2.5coder/prompt2\n",
        "!cp nueva/prompt_analysis/qwen2.5coder/prompt2/all_languages_prompt2_combined_Qwen2.5-Coder-7B-Instruct.json prompt_analysis/qwen2.5coder/prompt2/\n",
        "\n",
        "!mkdir -p prompt_analysis/qwen2.5coder/prompt3\n",
        "!cp nueva/prompt_analysis/qwen2.5coder/prompt3/all_languages_prompt3_combined_Qwen2.5-Coder-7B-Instruct.json prompt_analysis/qwen2.5coder/prompt3/\n"
      ],
      "metadata": {
        "id": "ITh43GAJVnPa"
      },
      "execution_count": 5,
      "outputs": []
    },
    {
      "cell_type": "code",
      "source": [
        "!git config --global user.name \"Drishti Shrrrma\"\n",
        "!git config --global user.email \"driknowsnothing@@@@@@\"\n",
        "\n",
        "!git add .\n",
        "!git commit -m \"Add prompt-based code summaries for CodeGemma, DeepSeekCoder, Gemma-2B, Qwen2.5\"\n"
      ],
      "metadata": {
        "colab": {
          "base_uri": "https://localhost:8080/"
        },
        "id": "6DjSZLAJVugf",
        "outputId": "cb4e4b50-5da8-4867-b562-d450b51f9f24"
      },
      "execution_count": 6,
      "outputs": [
        {
          "output_type": "stream",
          "name": "stdout",
          "text": [
            "warning: adding embedded git repository: nueva\n",
            "\u001b[33mhint: You've added another git repository inside your current repository.\u001b[m\n",
            "\u001b[33mhint: Clones of the outer repository will not contain the contents of\u001b[m\n",
            "\u001b[33mhint: the embedded repository and will not know how to obtain it.\u001b[m\n",
            "\u001b[33mhint: If you meant to add a submodule, use:\u001b[m\n",
            "\u001b[33mhint: \u001b[m\n",
            "\u001b[33mhint: \tgit submodule add <url> nueva\u001b[m\n",
            "\u001b[33mhint: \u001b[m\n",
            "\u001b[33mhint: If you added this path by mistake, you can remove it from the\u001b[m\n",
            "\u001b[33mhint: index with:\u001b[m\n",
            "\u001b[33mhint: \u001b[m\n",
            "\u001b[33mhint: \tgit rm --cached nueva\u001b[m\n",
            "\u001b[33mhint: \u001b[m\n",
            "\u001b[33mhint: See \"git help submodule\" for more information.\u001b[m\n",
            "[prompt-experiments 0124a81] Add prompt-based code summaries for CodeGemma, DeepSeekCoder, Gemma-2B, Qwen2.5\n",
            " 17 files changed, 14505 insertions(+)\n",
            " create mode 160000 nueva\n",
            " create mode 100644 prompt_analysis/codegemma/prompt0/all_languages_prompt0_combined_codegemma-7b-it.json\n",
            " create mode 100644 prompt_analysis/codegemma/prompt1/all_languages_prompt1_combined_codegemma-7b-it.json\n",
            " create mode 100644 prompt_analysis/codegemma/prompt2/all_languages_prompt2_combined_codegemma-7b-it.json\n",
            " create mode 100644 prompt_analysis/codegemma/prompt3/all_languages_prompt3_combined_codegemma-7b-it.json\n",
            " create mode 100644 prompt_analysis/deepseekcoder/prompt0/all_languages_prompt0_combined_deepseek-coder-6.7b-instruct.json\n",
            " create mode 100644 prompt_analysis/deepseekcoder/prompt1/all_languages_prompt1_combined_deepseek-coder-6.7b-instruct.json\n",
            " create mode 100644 prompt_analysis/deepseekcoder/prompt2/all_languages_prompt2_combined_deepseek-coder-6.7b-instruct.json\n",
            " create mode 100644 prompt_analysis/deepseekcoder/prompt3/all_languages_prompt3_combined_deepseek-coder-6.7b-instruct.json\n",
            " create mode 100644 prompt_analysis/gemma-2-9b-it/prompt0/all_languages_prompt0_combined_gemma-2-9b-it.json\n",
            " create mode 100644 prompt_analysis/gemma-2-9b-it/prompt1/all_languages_prompt1_combined_gemma-2-9b-it.json\n",
            " create mode 100644 prompt_analysis/gemma-2-9b-it/prompt2/all_languages_prompt2_combined_gemma-2-9b-it.json\n",
            " create mode 100644 prompt_analysis/gemma-2-9b-it/prompt3/all_languages_prompt3_combined_gemma-2-9b-it.json\n",
            " create mode 100644 prompt_analysis/qwen2.5coder/prompt0/all_languages_prompt0_combined_Qwen2.5-Coder-7B-Instruct.json\n",
            " create mode 100644 prompt_analysis/qwen2.5coder/prompt1/all_languages_prompt1_combined_Qwen2.5-Coder-7B-Instruct.json\n",
            " create mode 100644 prompt_analysis/qwen2.5coder/prompt2/all_languages_prompt2_combined_Qwen2.5-Coder-7B-Instruct.json\n",
            " create mode 100644 prompt_analysis/qwen2.5coder/prompt3/all_languages_prompt3_combined_Qwen2.5-Coder-7B-Instruct.json\n"
          ]
        }
      ]
    },
    {
      "cell_type": "code",
      "source": [
        "!git remote set-url origin https://my_PAT@github.com/MadhuNimmo/CodeClarity.git\n"
      ],
      "metadata": {
        "id": "kkGuL29uWa1A"
      },
      "execution_count": 7,
      "outputs": []
    },
    {
      "cell_type": "code",
      "source": [
        "!git push origin prompt-experiments\n"
      ],
      "metadata": {
        "colab": {
          "base_uri": "https://localhost:8080/"
        },
        "id": "QHUI7cnEXBJt",
        "outputId": "abe68878-6b35-47cb-ec35-5c7325105f7d"
      },
      "execution_count": 8,
      "outputs": [
        {
          "output_type": "stream",
          "name": "stdout",
          "text": [
            "Enumerating objects: 40, done.\n",
            "Counting objects:   2% (1/40)\rCounting objects:   5% (2/40)\rCounting objects:   7% (3/40)\rCounting objects:  10% (4/40)\rCounting objects:  12% (5/40)\rCounting objects:  15% (6/40)\rCounting objects:  17% (7/40)\rCounting objects:  20% (8/40)\rCounting objects:  22% (9/40)\rCounting objects:  25% (10/40)\rCounting objects:  27% (11/40)\rCounting objects:  30% (12/40)\rCounting objects:  32% (13/40)\rCounting objects:  35% (14/40)\rCounting objects:  37% (15/40)\rCounting objects:  40% (16/40)\rCounting objects:  42% (17/40)\rCounting objects:  45% (18/40)\rCounting objects:  47% (19/40)\rCounting objects:  50% (20/40)\rCounting objects:  52% (21/40)\rCounting objects:  55% (22/40)\rCounting objects:  57% (23/40)\rCounting objects:  60% (24/40)\rCounting objects:  62% (25/40)\rCounting objects:  65% (26/40)\rCounting objects:  67% (27/40)\rCounting objects:  70% (28/40)\rCounting objects:  72% (29/40)\rCounting objects:  75% (30/40)\rCounting objects:  77% (31/40)\rCounting objects:  80% (32/40)\rCounting objects:  82% (33/40)\rCounting objects:  85% (34/40)\rCounting objects:  87% (35/40)\rCounting objects:  90% (36/40)\rCounting objects:  92% (37/40)\rCounting objects:  95% (38/40)\rCounting objects:  97% (39/40)\rCounting objects: 100% (40/40)\rCounting objects: 100% (40/40), done.\n",
            "Delta compression using up to 2 threads\n",
            "Compressing objects: 100% (39/39), done.\n",
            "Writing objects: 100% (39/39), 1.94 MiB | 2.46 MiB/s, done.\n",
            "Total 39 (delta 5), reused 0 (delta 0), pack-reused 0\n",
            "remote: Resolving deltas: 100% (5/5), completed with 1 local object.\u001b[K\n",
            "remote: \n",
            "remote: Create a pull request for 'prompt-experiments' on GitHub by visiting:\u001b[K\n",
            "remote:      https://github.com/MadhuNimmo/CodeClarity/pull/new/prompt-experiments\u001b[K\n",
            "remote: \n",
            "To https://github.com/MadhuNimmo/CodeClarity.git\n",
            " * [new branch]      prompt-experiments -> prompt-experiments\n"
          ]
        }
      ]
    },
    {
      "cell_type": "code",
      "source": [],
      "metadata": {
        "id": "ytDmEeauXE_x"
      },
      "execution_count": null,
      "outputs": []
    }
  ]
}